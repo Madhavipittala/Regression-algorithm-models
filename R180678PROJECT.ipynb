{
 "cells": [
  {
   "cell_type": "code",
   "execution_count": 2,
   "metadata": {},
   "outputs": [
    {
     "data": {
      "text/html": [
       "<div>\n",
       "<style scoped>\n",
       "    .dataframe tbody tr th:only-of-type {\n",
       "        vertical-align: middle;\n",
       "    }\n",
       "\n",
       "    .dataframe tbody tr th {\n",
       "        vertical-align: top;\n",
       "    }\n",
       "\n",
       "    .dataframe thead th {\n",
       "        text-align: right;\n",
       "    }\n",
       "</style>\n",
       "<table border=\"1\" class=\"dataframe\">\n",
       "  <thead>\n",
       "    <tr style=\"text-align: right;\">\n",
       "      <th></th>\n",
       "      <th>Brand\\tTotal\\tReleases\\t#1 Release\\tLifetime Gross</th>\n",
       "    </tr>\n",
       "  </thead>\n",
       "  <tbody>\n",
       "    <tr>\n",
       "      <th>0</th>\n",
       "      <td>Marvel Comics\\t15806336901\\t69\\tAvengers: Endg...</td>\n",
       "    </tr>\n",
       "    <tr>\n",
       "      <th>1</th>\n",
       "      <td>Legendary Pictures\\t7018798067\\t56\\tJurassic W...</td>\n",
       "    </tr>\n",
       "    <tr>\n",
       "      <th>2</th>\n",
       "      <td>Lucasfilm\\t6325022918\\t39\\tStar Wars: Episode ...</td>\n",
       "    </tr>\n",
       "    <tr>\n",
       "      <th>3</th>\n",
       "      <td>Pixar\\t6078217662\\t28\\tIncredibles 2\\t608581744</td>\n",
       "    </tr>\n",
       "    <tr>\n",
       "      <th>4</th>\n",
       "      <td>DC Comics\\t5815645953\\t46\\tThe Dark Knight\\t53...</td>\n",
       "    </tr>\n",
       "    <tr>\n",
       "      <th>5</th>\n",
       "      <td>DreamWorks Animation\\t5792217737\\t41\\tShrek 2\\...</td>\n",
       "    </tr>\n",
       "    <tr>\n",
       "      <th>6</th>\n",
       "      <td>Vertigo Entertainment\\t3154664176\\t41\\tIt\\t327...</td>\n",
       "    </tr>\n",
       "    <tr>\n",
       "      <th>7</th>\n",
       "      <td>Bad Robot\\t3077078931\\t15\\tStar Wars: Episode ...</td>\n",
       "    </tr>\n",
       "    <tr>\n",
       "      <th>8</th>\n",
       "      <td>Walt Disney Animation Studios\\t2774912904\\t15\\...</td>\n",
       "    </tr>\n",
       "    <tr>\n",
       "      <th>9</th>\n",
       "      <td>Illumination Entertainment\\t2759505881\\t13\\tTh...</td>\n",
       "    </tr>\n",
       "    <tr>\n",
       "      <th>10</th>\n",
       "      <td>Blumhouse Productions\\t2451844676\\t49\\tGet Out...</td>\n",
       "    </tr>\n",
       "    <tr>\n",
       "      <th>11</th>\n",
       "      <td>Hasbro\\t2079485824\\t17\\tTransformers: Revenge ...</td>\n",
       "    </tr>\n",
       "    <tr>\n",
       "      <th>12</th>\n",
       "      <td>Nickelodeon\\t1930746182\\t26\\tTeenage Mutant Ni...</td>\n",
       "    </tr>\n",
       "    <tr>\n",
       "      <th>13</th>\n",
       "      <td>Sony Pictures Animation\\t1918763863\\t21\\tSpide...</td>\n",
       "    </tr>\n",
       "    <tr>\n",
       "      <th>14</th>\n",
       "      <td>Walden Media\\t1842852183\\t38\\tThe Chronicles o...</td>\n",
       "    </tr>\n",
       "    <tr>\n",
       "      <th>15</th>\n",
       "      <td>Blue Sky\\t1740428763\\t13\\tIce Age 3: Dawn of t...</td>\n",
       "    </tr>\n",
       "    <tr>\n",
       "      <th>16</th>\n",
       "      <td>Stephen King\\t1729648950\\t49\\tIt\\t327481748</td>\n",
       "    </tr>\n",
       "    <tr>\n",
       "      <th>17</th>\n",
       "      <td>MTV\\t1520456359\\t36\\tThe Longest Yard\\t158119460</td>\n",
       "    </tr>\n",
       "    <tr>\n",
       "      <th>18</th>\n",
       "      <td>Platinum Dunes\\t1422911399\\t19\\tTeenage Mutant...</td>\n",
       "    </tr>\n",
       "    <tr>\n",
       "      <th>19</th>\n",
       "      <td>Saturday Night Live - Alumni Debuts\\t102359603...</td>\n",
       "    </tr>\n",
       "    <tr>\n",
       "      <th>20</th>\n",
       "      <td>Dark Horse Comics\\t947671338\\t16\\t300\\t210614939</td>\n",
       "    </tr>\n",
       "    <tr>\n",
       "      <th>21</th>\n",
       "      <td>Tim Burton-Johnny Depp\\t889955830\\t8\\tAlice in...</td>\n",
       "    </tr>\n",
       "    <tr>\n",
       "      <th>22</th>\n",
       "      <td>Warner Animation Group\\t786497181\\t8\\tThe Lego...</td>\n",
       "    </tr>\n",
       "    <tr>\n",
       "      <th>23</th>\n",
       "      <td>Tyler Perry\\t765635362\\t16\\tMadea Goes to Jail...</td>\n",
       "    </tr>\n",
       "    <tr>\n",
       "      <th>24</th>\n",
       "      <td>CBS Films\\t652824187\\t29\\tScary Stories to Tel...</td>\n",
       "    </tr>\n",
       "    <tr>\n",
       "      <th>25</th>\n",
       "      <td>John Grisham\\t645661825\\t10\\tThe Firm\\t158348367</td>\n",
       "    </tr>\n",
       "    <tr>\n",
       "      <th>26</th>\n",
       "      <td>Robert Ludlum\\t645459186\\t6\\tThe Bourne Ultima...</td>\n",
       "    </tr>\n",
       "    <tr>\n",
       "      <th>27</th>\n",
       "      <td>MonsterVerse\\t580145113\\t4\\tGodzilla\\t200676069</td>\n",
       "    </tr>\n",
       "    <tr>\n",
       "      <th>28</th>\n",
       "      <td>Hanna-Barbera\\t578586146\\t10\\tScooby-Doo\\t1532...</td>\n",
       "    </tr>\n",
       "    <tr>\n",
       "      <th>29</th>\n",
       "      <td>Nicholas Sparks\\t574728259\\t11\\tThe Notebook\\t...</td>\n",
       "    </tr>\n",
       "    <tr>\n",
       "      <th>30</th>\n",
       "      <td>Philip K. Dick\\t495237720\\t14\\tMinority Report...</td>\n",
       "    </tr>\n",
       "    <tr>\n",
       "      <th>31</th>\n",
       "      <td>Dark Castle\\t454625110\\t16\\tUnknown\\t63686397</td>\n",
       "    </tr>\n",
       "    <tr>\n",
       "      <th>32</th>\n",
       "      <td>National Lampoon\\t436669213\\t21\\tNational Lamp...</td>\n",
       "    </tr>\n",
       "    <tr>\n",
       "      <th>33</th>\n",
       "      <td>Disney Channel\\t359952780\\t8\\tHigh School Musi...</td>\n",
       "    </tr>\n",
       "    <tr>\n",
       "      <th>34</th>\n",
       "      <td>Roald Dahl\\t356238494\\t7\\tCharlie and the Choc...</td>\n",
       "    </tr>\n",
       "    <tr>\n",
       "      <th>35</th>\n",
       "      <td>Saturday Night Live\\t346533876\\t11\\tWayne's Wo...</td>\n",
       "    </tr>\n",
       "    <tr>\n",
       "      <th>36</th>\n",
       "      <td>DisneyToon Studios\\t337576791\\t8\\tPlanes\\t9028...</td>\n",
       "    </tr>\n",
       "    <tr>\n",
       "      <th>37</th>\n",
       "      <td>Aardman\\t333777829\\t16\\tChicken Run\\t106834564</td>\n",
       "    </tr>\n",
       "    <tr>\n",
       "      <th>38</th>\n",
       "      <td>Laika\\t300158323\\t6\\tCoraline\\t75286229</td>\n",
       "    </tr>\n",
       "    <tr>\n",
       "      <th>39</th>\n",
       "      <td>Alan Moore\\t276088604\\t4\\tWatchmen\\t107509799</td>\n",
       "    </tr>\n",
       "    <tr>\n",
       "      <th>40</th>\n",
       "      <td>Amazon Studios\\t204376048\\t43\\tManchester by t...</td>\n",
       "    </tr>\n",
       "    <tr>\n",
       "      <th>41</th>\n",
       "      <td>Clive Barker\\t171686009\\t10\\tCandyman\\t61186570</td>\n",
       "    </tr>\n",
       "    <tr>\n",
       "      <th>42</th>\n",
       "      <td>Disneynature\\t151620585\\t8\\tEarth\\t32011576</td>\n",
       "    </tr>\n",
       "    <tr>\n",
       "      <th>43</th>\n",
       "      <td>Broken Lizard\\t73338237\\t5\\tSuper Troopers 2\\t...</td>\n",
       "    </tr>\n",
       "    <tr>\n",
       "      <th>44</th>\n",
       "      <td>Studio Ghibli\\t70666453\\t26\\tThe Secret World ...</td>\n",
       "    </tr>\n",
       "  </tbody>\n",
       "</table>\n",
       "</div>"
      ],
      "text/plain": [
       "   Brand\\tTotal\\tReleases\\t#1 Release\\tLifetime Gross\n",
       "0   Marvel Comics\\t15806336901\\t69\\tAvengers: Endg...\n",
       "1   Legendary Pictures\\t7018798067\\t56\\tJurassic W...\n",
       "2   Lucasfilm\\t6325022918\\t39\\tStar Wars: Episode ...\n",
       "3     Pixar\\t6078217662\\t28\\tIncredibles 2\\t608581744\n",
       "4   DC Comics\\t5815645953\\t46\\tThe Dark Knight\\t53...\n",
       "5   DreamWorks Animation\\t5792217737\\t41\\tShrek 2\\...\n",
       "6   Vertigo Entertainment\\t3154664176\\t41\\tIt\\t327...\n",
       "7   Bad Robot\\t3077078931\\t15\\tStar Wars: Episode ...\n",
       "8   Walt Disney Animation Studios\\t2774912904\\t15\\...\n",
       "9   Illumination Entertainment\\t2759505881\\t13\\tTh...\n",
       "10  Blumhouse Productions\\t2451844676\\t49\\tGet Out...\n",
       "11  Hasbro\\t2079485824\\t17\\tTransformers: Revenge ...\n",
       "12  Nickelodeon\\t1930746182\\t26\\tTeenage Mutant Ni...\n",
       "13  Sony Pictures Animation\\t1918763863\\t21\\tSpide...\n",
       "14  Walden Media\\t1842852183\\t38\\tThe Chronicles o...\n",
       "15  Blue Sky\\t1740428763\\t13\\tIce Age 3: Dawn of t...\n",
       "16        Stephen King\\t1729648950\\t49\\tIt\\t327481748\n",
       "17   MTV\\t1520456359\\t36\\tThe Longest Yard\\t158119460\n",
       "18  Platinum Dunes\\t1422911399\\t19\\tTeenage Mutant...\n",
       "19  Saturday Night Live - Alumni Debuts\\t102359603...\n",
       "20   Dark Horse Comics\\t947671338\\t16\\t300\\t210614939\n",
       "21  Tim Burton-Johnny Depp\\t889955830\\t8\\tAlice in...\n",
       "22  Warner Animation Group\\t786497181\\t8\\tThe Lego...\n",
       "23  Tyler Perry\\t765635362\\t16\\tMadea Goes to Jail...\n",
       "24  CBS Films\\t652824187\\t29\\tScary Stories to Tel...\n",
       "25   John Grisham\\t645661825\\t10\\tThe Firm\\t158348367\n",
       "26  Robert Ludlum\\t645459186\\t6\\tThe Bourne Ultima...\n",
       "27    MonsterVerse\\t580145113\\t4\\tGodzilla\\t200676069\n",
       "28  Hanna-Barbera\\t578586146\\t10\\tScooby-Doo\\t1532...\n",
       "29  Nicholas Sparks\\t574728259\\t11\\tThe Notebook\\t...\n",
       "30  Philip K. Dick\\t495237720\\t14\\tMinority Report...\n",
       "31      Dark Castle\\t454625110\\t16\\tUnknown\\t63686397\n",
       "32  National Lampoon\\t436669213\\t21\\tNational Lamp...\n",
       "33  Disney Channel\\t359952780\\t8\\tHigh School Musi...\n",
       "34  Roald Dahl\\t356238494\\t7\\tCharlie and the Choc...\n",
       "35  Saturday Night Live\\t346533876\\t11\\tWayne's Wo...\n",
       "36  DisneyToon Studios\\t337576791\\t8\\tPlanes\\t9028...\n",
       "37     Aardman\\t333777829\\t16\\tChicken Run\\t106834564\n",
       "38            Laika\\t300158323\\t6\\tCoraline\\t75286229\n",
       "39      Alan Moore\\t276088604\\t4\\tWatchmen\\t107509799\n",
       "40  Amazon Studios\\t204376048\\t43\\tManchester by t...\n",
       "41    Clive Barker\\t171686009\\t10\\tCandyman\\t61186570\n",
       "42        Disneynature\\t151620585\\t8\\tEarth\\t32011576\n",
       "43  Broken Lizard\\t73338237\\t5\\tSuper Troopers 2\\t...\n",
       "44  Studio Ghibli\\t70666453\\t26\\tThe Secret World ..."
      ]
     },
     "execution_count": 2,
     "metadata": {},
     "output_type": "execute_result"
    }
   ],
   "source": [
    "import pandas as pd\n",
    "data = pd.read_csv(\"/home/apiiit-rkv/Downloads/bomojobrandindices.csv\")\n",
    "data"
   ]
  },
  {
   "cell_type": "code",
   "execution_count": 5,
   "metadata": {},
   "outputs": [
    {
     "data": {
      "text/html": [
       "<div>\n",
       "<style scoped>\n",
       "    .dataframe tbody tr th:only-of-type {\n",
       "        vertical-align: middle;\n",
       "    }\n",
       "\n",
       "    .dataframe tbody tr th {\n",
       "        vertical-align: top;\n",
       "    }\n",
       "\n",
       "    .dataframe thead th {\n",
       "        text-align: right;\n",
       "    }\n",
       "</style>\n",
       "<table border=\"1\" class=\"dataframe\">\n",
       "  <thead>\n",
       "    <tr style=\"text-align: right;\">\n",
       "      <th></th>\n",
       "      <th>Brand</th>\n",
       "      <th>Total</th>\n",
       "      <th>Releases</th>\n",
       "      <th>#1 Release</th>\n",
       "      <th>Lifetime Gross</th>\n",
       "    </tr>\n",
       "  </thead>\n",
       "  <tbody>\n",
       "    <tr>\n",
       "      <th>0</th>\n",
       "      <td>Marvel Comics</td>\n",
       "      <td>15806336901</td>\n",
       "      <td>69</td>\n",
       "      <td>Avengers: Endgame</td>\n",
       "      <td>858373000</td>\n",
       "    </tr>\n",
       "    <tr>\n",
       "      <th>1</th>\n",
       "      <td>Legendary Pictures</td>\n",
       "      <td>7018798067</td>\n",
       "      <td>56</td>\n",
       "      <td>Jurassic World</td>\n",
       "      <td>652270625</td>\n",
       "    </tr>\n",
       "    <tr>\n",
       "      <th>2</th>\n",
       "      <td>Lucasfilm</td>\n",
       "      <td>6325022918</td>\n",
       "      <td>39</td>\n",
       "      <td>Star Wars: Episode VII - The Force Awakens</td>\n",
       "      <td>936662225</td>\n",
       "    </tr>\n",
       "    <tr>\n",
       "      <th>3</th>\n",
       "      <td>Pixar</td>\n",
       "      <td>6078217662</td>\n",
       "      <td>28</td>\n",
       "      <td>Incredibles 2</td>\n",
       "      <td>608581744</td>\n",
       "    </tr>\n",
       "    <tr>\n",
       "      <th>4</th>\n",
       "      <td>DC Comics</td>\n",
       "      <td>5815645953</td>\n",
       "      <td>46</td>\n",
       "      <td>The Dark Knight</td>\n",
       "      <td>533345358</td>\n",
       "    </tr>\n",
       "    <tr>\n",
       "      <th>5</th>\n",
       "      <td>DreamWorks Animation</td>\n",
       "      <td>5792217737</td>\n",
       "      <td>41</td>\n",
       "      <td>Shrek 2</td>\n",
       "      <td>441226247</td>\n",
       "    </tr>\n",
       "    <tr>\n",
       "      <th>6</th>\n",
       "      <td>Vertigo Entertainment</td>\n",
       "      <td>3154664176</td>\n",
       "      <td>41</td>\n",
       "      <td>It</td>\n",
       "      <td>327481748</td>\n",
       "    </tr>\n",
       "    <tr>\n",
       "      <th>7</th>\n",
       "      <td>Bad Robot</td>\n",
       "      <td>3077078931</td>\n",
       "      <td>15</td>\n",
       "      <td>Star Wars: Episode VII - The Force Awakens</td>\n",
       "      <td>936662225</td>\n",
       "    </tr>\n",
       "    <tr>\n",
       "      <th>8</th>\n",
       "      <td>Walt Disney Animation Studios</td>\n",
       "      <td>2774912904</td>\n",
       "      <td>15</td>\n",
       "      <td>Frozen II</td>\n",
       "      <td>477373578</td>\n",
       "    </tr>\n",
       "    <tr>\n",
       "      <th>9</th>\n",
       "      <td>Illumination Entertainment</td>\n",
       "      <td>2759505881</td>\n",
       "      <td>13</td>\n",
       "      <td>The Secret Life of Pets</td>\n",
       "      <td>368384330</td>\n",
       "    </tr>\n",
       "    <tr>\n",
       "      <th>10</th>\n",
       "      <td>Blumhouse Productions</td>\n",
       "      <td>2451844676</td>\n",
       "      <td>49</td>\n",
       "      <td>Get Out</td>\n",
       "      <td>176040665</td>\n",
       "    </tr>\n",
       "    <tr>\n",
       "      <th>11</th>\n",
       "      <td>Hasbro</td>\n",
       "      <td>2079485824</td>\n",
       "      <td>17</td>\n",
       "      <td>Transformers: Revenge of the Fallen</td>\n",
       "      <td>402111870</td>\n",
       "    </tr>\n",
       "    <tr>\n",
       "      <th>12</th>\n",
       "      <td>Nickelodeon</td>\n",
       "      <td>1930746182</td>\n",
       "      <td>26</td>\n",
       "      <td>Teenage Mutant Ninja Turtles</td>\n",
       "      <td>191204754</td>\n",
       "    </tr>\n",
       "    <tr>\n",
       "      <th>13</th>\n",
       "      <td>Sony Pictures Animation</td>\n",
       "      <td>1918763863</td>\n",
       "      <td>21</td>\n",
       "      <td>Spider-Man: Into the Spider-Verse</td>\n",
       "      <td>190241310</td>\n",
       "    </tr>\n",
       "    <tr>\n",
       "      <th>14</th>\n",
       "      <td>Walden Media</td>\n",
       "      <td>1842852183</td>\n",
       "      <td>38</td>\n",
       "      <td>The Chronicles of Narnia: The Lion the Witch a...</td>\n",
       "      <td>291710957</td>\n",
       "    </tr>\n",
       "    <tr>\n",
       "      <th>15</th>\n",
       "      <td>Blue Sky</td>\n",
       "      <td>1740428763</td>\n",
       "      <td>13</td>\n",
       "      <td>Ice Age 3: Dawn of the Dinosaurs</td>\n",
       "      <td>196573705</td>\n",
       "    </tr>\n",
       "    <tr>\n",
       "      <th>16</th>\n",
       "      <td>Stephen King</td>\n",
       "      <td>1729648950</td>\n",
       "      <td>49</td>\n",
       "      <td>It</td>\n",
       "      <td>327481748</td>\n",
       "    </tr>\n",
       "    <tr>\n",
       "      <th>17</th>\n",
       "      <td>MTV</td>\n",
       "      <td>1520456359</td>\n",
       "      <td>36</td>\n",
       "      <td>The Longest Yard</td>\n",
       "      <td>158119460</td>\n",
       "    </tr>\n",
       "    <tr>\n",
       "      <th>18</th>\n",
       "      <td>Platinum Dunes</td>\n",
       "      <td>1422911399</td>\n",
       "      <td>19</td>\n",
       "      <td>Teenage Mutant Ninja Turtles</td>\n",
       "      <td>191204754</td>\n",
       "    </tr>\n",
       "    <tr>\n",
       "      <th>19</th>\n",
       "      <td>Saturday Night Live - Alumni Debuts</td>\n",
       "      <td>1023596031</td>\n",
       "      <td>30</td>\n",
       "      <td>Bridesmaids</td>\n",
       "      <td>169106725</td>\n",
       "    </tr>\n",
       "    <tr>\n",
       "      <th>20</th>\n",
       "      <td>Dark Horse Comics</td>\n",
       "      <td>947671338</td>\n",
       "      <td>16</td>\n",
       "      <td>300</td>\n",
       "      <td>210614939</td>\n",
       "    </tr>\n",
       "    <tr>\n",
       "      <th>21</th>\n",
       "      <td>Tim Burton-Johnny Depp</td>\n",
       "      <td>889955830</td>\n",
       "      <td>8</td>\n",
       "      <td>Alice in Wonderland</td>\n",
       "      <td>334191110</td>\n",
       "    </tr>\n",
       "    <tr>\n",
       "      <th>22</th>\n",
       "      <td>Warner Animation Group</td>\n",
       "      <td>786497181</td>\n",
       "      <td>8</td>\n",
       "      <td>The Lego Movie</td>\n",
       "      <td>257760692</td>\n",
       "    </tr>\n",
       "    <tr>\n",
       "      <th>23</th>\n",
       "      <td>Tyler Perry</td>\n",
       "      <td>765635362</td>\n",
       "      <td>16</td>\n",
       "      <td>Madea Goes to Jail</td>\n",
       "      <td>90508336</td>\n",
       "    </tr>\n",
       "    <tr>\n",
       "      <th>24</th>\n",
       "      <td>CBS Films</td>\n",
       "      <td>652824187</td>\n",
       "      <td>29</td>\n",
       "      <td>Scary Stories to Tell in the Dark</td>\n",
       "      <td>68947075</td>\n",
       "    </tr>\n",
       "    <tr>\n",
       "      <th>25</th>\n",
       "      <td>John Grisham</td>\n",
       "      <td>645661825</td>\n",
       "      <td>10</td>\n",
       "      <td>The Firm</td>\n",
       "      <td>158348367</td>\n",
       "    </tr>\n",
       "    <tr>\n",
       "      <th>26</th>\n",
       "      <td>Robert Ludlum</td>\n",
       "      <td>645459186</td>\n",
       "      <td>6</td>\n",
       "      <td>The Bourne Ultimatum</td>\n",
       "      <td>227471070</td>\n",
       "    </tr>\n",
       "    <tr>\n",
       "      <th>27</th>\n",
       "      <td>MonsterVerse</td>\n",
       "      <td>580145113</td>\n",
       "      <td>4</td>\n",
       "      <td>Godzilla</td>\n",
       "      <td>200676069</td>\n",
       "    </tr>\n",
       "    <tr>\n",
       "      <th>28</th>\n",
       "      <td>Hanna-Barbera</td>\n",
       "      <td>578586146</td>\n",
       "      <td>10</td>\n",
       "      <td>Scooby-Doo</td>\n",
       "      <td>153294164</td>\n",
       "    </tr>\n",
       "    <tr>\n",
       "      <th>29</th>\n",
       "      <td>Nicholas Sparks</td>\n",
       "      <td>574728259</td>\n",
       "      <td>11</td>\n",
       "      <td>The Notebook</td>\n",
       "      <td>81001787</td>\n",
       "    </tr>\n",
       "    <tr>\n",
       "      <th>30</th>\n",
       "      <td>Philip K. Dick</td>\n",
       "      <td>495237720</td>\n",
       "      <td>14</td>\n",
       "      <td>Minority Report</td>\n",
       "      <td>132072926</td>\n",
       "    </tr>\n",
       "    <tr>\n",
       "      <th>31</th>\n",
       "      <td>Dark Castle</td>\n",
       "      <td>454625110</td>\n",
       "      <td>16</td>\n",
       "      <td>Unknown</td>\n",
       "      <td>63686397</td>\n",
       "    </tr>\n",
       "    <tr>\n",
       "      <th>32</th>\n",
       "      <td>National Lampoon</td>\n",
       "      <td>436669213</td>\n",
       "      <td>21</td>\n",
       "      <td>National Lampoon's Animal House</td>\n",
       "      <td>120091123</td>\n",
       "    </tr>\n",
       "    <tr>\n",
       "      <th>33</th>\n",
       "      <td>Disney Channel</td>\n",
       "      <td>359952780</td>\n",
       "      <td>8</td>\n",
       "      <td>High School Musical 3: Senior Year</td>\n",
       "      <td>90559416</td>\n",
       "    </tr>\n",
       "    <tr>\n",
       "      <th>34</th>\n",
       "      <td>Roald Dahl</td>\n",
       "      <td>356238494</td>\n",
       "      <td>7</td>\n",
       "      <td>Charlie and the Chocolate Factory</td>\n",
       "      <td>206459076</td>\n",
       "    </tr>\n",
       "    <tr>\n",
       "      <th>35</th>\n",
       "      <td>Saturday Night Live</td>\n",
       "      <td>346533876</td>\n",
       "      <td>11</td>\n",
       "      <td>Wayne's World</td>\n",
       "      <td>121697323</td>\n",
       "    </tr>\n",
       "    <tr>\n",
       "      <th>36</th>\n",
       "      <td>DisneyToon Studios</td>\n",
       "      <td>337576791</td>\n",
       "      <td>8</td>\n",
       "      <td>Planes</td>\n",
       "      <td>90288712</td>\n",
       "    </tr>\n",
       "    <tr>\n",
       "      <th>37</th>\n",
       "      <td>Aardman</td>\n",
       "      <td>333777829</td>\n",
       "      <td>16</td>\n",
       "      <td>Chicken Run</td>\n",
       "      <td>106834564</td>\n",
       "    </tr>\n",
       "    <tr>\n",
       "      <th>38</th>\n",
       "      <td>Laika</td>\n",
       "      <td>300158323</td>\n",
       "      <td>6</td>\n",
       "      <td>Coraline</td>\n",
       "      <td>75286229</td>\n",
       "    </tr>\n",
       "    <tr>\n",
       "      <th>39</th>\n",
       "      <td>Alan Moore</td>\n",
       "      <td>276088604</td>\n",
       "      <td>4</td>\n",
       "      <td>Watchmen</td>\n",
       "      <td>107509799</td>\n",
       "    </tr>\n",
       "    <tr>\n",
       "      <th>40</th>\n",
       "      <td>Amazon Studios</td>\n",
       "      <td>204376048</td>\n",
       "      <td>43</td>\n",
       "      <td>Manchester by the Sea</td>\n",
       "      <td>47695371</td>\n",
       "    </tr>\n",
       "    <tr>\n",
       "      <th>41</th>\n",
       "      <td>Clive Barker</td>\n",
       "      <td>171686009</td>\n",
       "      <td>10</td>\n",
       "      <td>Candyman</td>\n",
       "      <td>61186570</td>\n",
       "    </tr>\n",
       "    <tr>\n",
       "      <th>42</th>\n",
       "      <td>Disneynature</td>\n",
       "      <td>151620585</td>\n",
       "      <td>8</td>\n",
       "      <td>Earth</td>\n",
       "      <td>32011576</td>\n",
       "    </tr>\n",
       "    <tr>\n",
       "      <th>43</th>\n",
       "      <td>Broken Lizard</td>\n",
       "      <td>73338237</td>\n",
       "      <td>5</td>\n",
       "      <td>Super Troopers 2</td>\n",
       "      <td>30617396</td>\n",
       "    </tr>\n",
       "    <tr>\n",
       "      <th>44</th>\n",
       "      <td>Studio Ghibli</td>\n",
       "      <td>70666453</td>\n",
       "      <td>26</td>\n",
       "      <td>The Secret World of Arrietty</td>\n",
       "      <td>19202743</td>\n",
       "    </tr>\n",
       "  </tbody>\n",
       "</table>\n",
       "</div>"
      ],
      "text/plain": [
       "                                  Brand        Total  Releases  \\\n",
       "0                         Marvel Comics  15806336901        69   \n",
       "1                    Legendary Pictures   7018798067        56   \n",
       "2                             Lucasfilm   6325022918        39   \n",
       "3                                 Pixar   6078217662        28   \n",
       "4                             DC Comics   5815645953        46   \n",
       "5                  DreamWorks Animation   5792217737        41   \n",
       "6                 Vertigo Entertainment   3154664176        41   \n",
       "7                             Bad Robot   3077078931        15   \n",
       "8         Walt Disney Animation Studios   2774912904        15   \n",
       "9            Illumination Entertainment   2759505881        13   \n",
       "10                Blumhouse Productions   2451844676        49   \n",
       "11                               Hasbro   2079485824        17   \n",
       "12                          Nickelodeon   1930746182        26   \n",
       "13              Sony Pictures Animation   1918763863        21   \n",
       "14                         Walden Media   1842852183        38   \n",
       "15                             Blue Sky   1740428763        13   \n",
       "16                         Stephen King   1729648950        49   \n",
       "17                                  MTV   1520456359        36   \n",
       "18                       Platinum Dunes   1422911399        19   \n",
       "19  Saturday Night Live - Alumni Debuts   1023596031        30   \n",
       "20                    Dark Horse Comics    947671338        16   \n",
       "21               Tim Burton-Johnny Depp    889955830         8   \n",
       "22               Warner Animation Group    786497181         8   \n",
       "23                          Tyler Perry    765635362        16   \n",
       "24                            CBS Films    652824187        29   \n",
       "25                         John Grisham    645661825        10   \n",
       "26                        Robert Ludlum    645459186         6   \n",
       "27                         MonsterVerse    580145113         4   \n",
       "28                        Hanna-Barbera    578586146        10   \n",
       "29                      Nicholas Sparks    574728259        11   \n",
       "30                       Philip K. Dick    495237720        14   \n",
       "31                          Dark Castle    454625110        16   \n",
       "32                     National Lampoon    436669213        21   \n",
       "33                       Disney Channel    359952780         8   \n",
       "34                           Roald Dahl    356238494         7   \n",
       "35                  Saturday Night Live    346533876        11   \n",
       "36                   DisneyToon Studios    337576791         8   \n",
       "37                              Aardman    333777829        16   \n",
       "38                                Laika    300158323         6   \n",
       "39                           Alan Moore    276088604         4   \n",
       "40                       Amazon Studios    204376048        43   \n",
       "41                         Clive Barker    171686009        10   \n",
       "42                         Disneynature    151620585         8   \n",
       "43                        Broken Lizard     73338237         5   \n",
       "44                        Studio Ghibli     70666453        26   \n",
       "\n",
       "                                           #1 Release  Lifetime Gross  \n",
       "0                                   Avengers: Endgame       858373000  \n",
       "1                                      Jurassic World       652270625  \n",
       "2          Star Wars: Episode VII - The Force Awakens       936662225  \n",
       "3                                       Incredibles 2       608581744  \n",
       "4                                     The Dark Knight       533345358  \n",
       "5                                             Shrek 2       441226247  \n",
       "6                                                  It       327481748  \n",
       "7          Star Wars: Episode VII - The Force Awakens       936662225  \n",
       "8                                           Frozen II       477373578  \n",
       "9                             The Secret Life of Pets       368384330  \n",
       "10                                            Get Out       176040665  \n",
       "11                Transformers: Revenge of the Fallen       402111870  \n",
       "12                       Teenage Mutant Ninja Turtles       191204754  \n",
       "13                  Spider-Man: Into the Spider-Verse       190241310  \n",
       "14  The Chronicles of Narnia: The Lion the Witch a...       291710957  \n",
       "15                   Ice Age 3: Dawn of the Dinosaurs       196573705  \n",
       "16                                                 It       327481748  \n",
       "17                                   The Longest Yard       158119460  \n",
       "18                       Teenage Mutant Ninja Turtles       191204754  \n",
       "19                                        Bridesmaids       169106725  \n",
       "20                                                300       210614939  \n",
       "21                                Alice in Wonderland       334191110  \n",
       "22                                     The Lego Movie       257760692  \n",
       "23                                 Madea Goes to Jail        90508336  \n",
       "24                  Scary Stories to Tell in the Dark        68947075  \n",
       "25                                           The Firm       158348367  \n",
       "26                               The Bourne Ultimatum       227471070  \n",
       "27                                           Godzilla       200676069  \n",
       "28                                         Scooby-Doo       153294164  \n",
       "29                                       The Notebook        81001787  \n",
       "30                                    Minority Report       132072926  \n",
       "31                                            Unknown        63686397  \n",
       "32                    National Lampoon's Animal House       120091123  \n",
       "33                 High School Musical 3: Senior Year        90559416  \n",
       "34                  Charlie and the Chocolate Factory       206459076  \n",
       "35                                      Wayne's World       121697323  \n",
       "36                                             Planes        90288712  \n",
       "37                                        Chicken Run       106834564  \n",
       "38                                           Coraline        75286229  \n",
       "39                                           Watchmen       107509799  \n",
       "40                              Manchester by the Sea        47695371  \n",
       "41                                           Candyman        61186570  \n",
       "42                                              Earth        32011576  \n",
       "43                                   Super Troopers 2        30617396  \n",
       "44                       The Secret World of Arrietty        19202743  "
      ]
     },
     "execution_count": 5,
     "metadata": {},
     "output_type": "execute_result"
    }
   ],
   "source": [
    "data = pd.read_csv(\"/home/apiiit-rkv/Downloads/bomojobrandindices.csv\",sep = '\\t')\n",
    "data"
   ]
  },
  {
   "cell_type": "code",
   "execution_count": 6,
   "metadata": {},
   "outputs": [
    {
     "name": "stdout",
     "output_type": "stream",
     "text": [
      "<class 'pandas.core.frame.DataFrame'>\n",
      "RangeIndex: 45 entries, 0 to 44\n",
      "Data columns (total 5 columns):\n",
      " #   Column          Non-Null Count  Dtype \n",
      "---  ------          --------------  ----- \n",
      " 0   Brand           45 non-null     object\n",
      " 1   Total           45 non-null     int64 \n",
      " 2   Releases        45 non-null     int64 \n",
      " 3   #1 Release      45 non-null     object\n",
      " 4   Lifetime Gross  45 non-null     int64 \n",
      "dtypes: int64(3), object(2)\n",
      "memory usage: 1.9+ KB\n"
     ]
    }
   ],
   "source": [
    "data.info()"
   ]
  },
  {
   "cell_type": "code",
   "execution_count": 7,
   "metadata": {},
   "outputs": [
    {
     "data": {
      "text/plain": [
       "Brand             0\n",
       "Total             0\n",
       "Releases          0\n",
       "#1 Release        0\n",
       "Lifetime Gross    0\n",
       "dtype: int64"
      ]
     },
     "execution_count": 7,
     "metadata": {},
     "output_type": "execute_result"
    }
   ],
   "source": [
    "data.isna().sum()"
   ]
  },
  {
   "cell_type": "code",
   "execution_count": 8,
   "metadata": {},
   "outputs": [
    {
     "data": {
      "text/plain": [
       "Brand             0\n",
       "Total             0\n",
       "Releases          0\n",
       "#1 Release        0\n",
       "Lifetime Gross    0\n",
       "dtype: int64"
      ]
     },
     "execution_count": 8,
     "metadata": {},
     "output_type": "execute_result"
    }
   ],
   "source": [
    "data.dropna(inplace = True)\n",
    "data.isna().sum()"
   ]
  },
  {
   "cell_type": "code",
   "execution_count": 9,
   "metadata": {},
   "outputs": [
    {
     "data": {
      "text/html": [
       "<div>\n",
       "<style scoped>\n",
       "    .dataframe tbody tr th:only-of-type {\n",
       "        vertical-align: middle;\n",
       "    }\n",
       "\n",
       "    .dataframe tbody tr th {\n",
       "        vertical-align: top;\n",
       "    }\n",
       "\n",
       "    .dataframe thead th {\n",
       "        text-align: right;\n",
       "    }\n",
       "</style>\n",
       "<table border=\"1\" class=\"dataframe\">\n",
       "  <thead>\n",
       "    <tr style=\"text-align: right;\">\n",
       "      <th></th>\n",
       "      <th>Total</th>\n",
       "      <th>Releases</th>\n",
       "      <th>Lifetime Gross</th>\n",
       "    </tr>\n",
       "  </thead>\n",
       "  <tbody>\n",
       "    <tr>\n",
       "      <th>count</th>\n",
       "      <td>4.500000e+01</td>\n",
       "      <td>45.000000</td>\n",
       "      <td>4.500000e+01</td>\n",
       "    </tr>\n",
       "    <tr>\n",
       "      <th>mean</th>\n",
       "      <td>1.948863e+09</td>\n",
       "      <td>21.822222</td>\n",
       "      <td>2.560482e+08</td>\n",
       "    </tr>\n",
       "    <tr>\n",
       "      <th>std</th>\n",
       "      <td>2.806106e+09</td>\n",
       "      <td>16.035881</td>\n",
       "      <td>2.336907e+08</td>\n",
       "    </tr>\n",
       "    <tr>\n",
       "      <th>min</th>\n",
       "      <td>7.066645e+07</td>\n",
       "      <td>4.000000</td>\n",
       "      <td>1.920274e+07</td>\n",
       "    </tr>\n",
       "    <tr>\n",
       "      <th>25%</th>\n",
       "      <td>3.599528e+08</td>\n",
       "      <td>10.000000</td>\n",
       "      <td>9.055942e+07</td>\n",
       "    </tr>\n",
       "    <tr>\n",
       "      <th>50%</th>\n",
       "      <td>7.864972e+08</td>\n",
       "      <td>16.000000</td>\n",
       "      <td>1.902413e+08</td>\n",
       "    </tr>\n",
       "    <tr>\n",
       "      <th>75%</th>\n",
       "      <td>2.079486e+09</td>\n",
       "      <td>30.000000</td>\n",
       "      <td>3.274817e+08</td>\n",
       "    </tr>\n",
       "    <tr>\n",
       "      <th>max</th>\n",
       "      <td>1.580634e+10</td>\n",
       "      <td>69.000000</td>\n",
       "      <td>9.366622e+08</td>\n",
       "    </tr>\n",
       "  </tbody>\n",
       "</table>\n",
       "</div>"
      ],
      "text/plain": [
       "              Total   Releases  Lifetime Gross\n",
       "count  4.500000e+01  45.000000    4.500000e+01\n",
       "mean   1.948863e+09  21.822222    2.560482e+08\n",
       "std    2.806106e+09  16.035881    2.336907e+08\n",
       "min    7.066645e+07   4.000000    1.920274e+07\n",
       "25%    3.599528e+08  10.000000    9.055942e+07\n",
       "50%    7.864972e+08  16.000000    1.902413e+08\n",
       "75%    2.079486e+09  30.000000    3.274817e+08\n",
       "max    1.580634e+10  69.000000    9.366622e+08"
      ]
     },
     "execution_count": 9,
     "metadata": {},
     "output_type": "execute_result"
    }
   ],
   "source": [
    "data.describe()"
   ]
  },
  {
   "cell_type": "code",
   "execution_count": 10,
   "metadata": {},
   "outputs": [
    {
     "data": {
      "text/plain": [
       "Index(['Brand', 'Total', 'Releases', '#1 Release', 'Lifetime Gross'], dtype='object')"
      ]
     },
     "execution_count": 10,
     "metadata": {},
     "output_type": "execute_result"
    }
   ],
   "source": [
    "import matplotlib.pyplot as plt\n",
    "data.columns"
   ]
  },
  {
   "cell_type": "code",
   "execution_count": 11,
   "metadata": {},
   "outputs": [
    {
     "data": {
      "image/png": "[encoded data removed]",
      "text/plain": [
       "<Figure size 432x288 with 1 Axes>"
      ]
     },
     "metadata": {
      "needs_background": "light"
     },
     "output_type": "display_data"
    }
   ],
   "source": [
    "plt.scatter((data[\"Total\"]),data[\"Lifetime Gross\"])\n",
    "plt.show()"
   ]
  },
  {
   "cell_type": "code",
   "execution_count": 13,
   "metadata": {},
   "outputs": [
    {
     "data": {
      "image/png": "[encoded data removed]",
      "text/plain": [
       "<Figure size 432x288 with 1 Axes>"
      ]
     },
     "metadata": {
      "needs_background": "light"
     },
     "output_type": "display_data"
    },
    {
     "data": {
      "image/png": "[encoded data removed]",
      "text/plain": [
       "<Figure size 432x288 with 1 Axes>"
      ]
     },
     "metadata": {
      "needs_background": "light"
     },
     "output_type": "display_data"
    },
    {
     "data": {
      "image/png": "[encoded data removed]",
      "text/plain": [
       "<Figure size 432x288 with 1 Axes>"
      ]
     },
     "metadata": {
      "needs_background": "light"
     },
     "output_type": "display_data"
    },
    {
     "data": {
      "image/png": "[encoded data removed]",
      "text/plain": [
       "<Figure size 432x288 with 1 Axes>"
      ]
     },
     "metadata": {
      "needs_background": "light"
     },
     "output_type": "display_data"
    }
   ],
   "source": [
    "for i in data.columns[:-1]:\n",
    " plt.xlabel(i)\n",
    " plt.ylabel(\"Total\")\n",
    " plt.scatter(data[i],data[\"Total\"])\n",
    " plt.show()"
   ]
  },
  {
   "cell_type": "code",
   "execution_count": 14,
   "metadata": {},
   "outputs": [
    {
     "data": {
      "text/plain": [
       "LinearRegression()"
      ]
     },
     "execution_count": 14,
     "metadata": {},
     "output_type": "execute_result"
    }
   ],
   "source": [
    "import numpy as np\n",
    "x = np.array(data[\"Releases\"]).reshape(-1,1)\n",
    "y = np.array(data[\"Total\"]).reshape(-1,1)\n",
    "from sklearn.linear_model import LinearRegression\n",
    "linear = LinearRegression()\n",
    "linear.fit(x,y)\n",
    "LinearRegression()"
   ]
  },
  {
   "cell_type": "code",
   "execution_count": 15,
   "metadata": {},
   "outputs": [
    {
     "data": {
      "text/plain": [
       "array([[3.47997776e+09]])"
      ]
     },
     "execution_count": 15,
     "metadata": {},
     "output_type": "execute_result"
    }
   ],
   "source": [
    "linear.predict([[34]])"
   ]
  },
  {
   "cell_type": "code",
   "execution_count": 16,
   "metadata": {},
   "outputs": [
    {
     "data": {
      "text/plain": [
       "5"
      ]
     },
     "execution_count": 16,
     "metadata": {},
     "output_type": "execute_result"
    }
   ],
   "source": [
    "len(data.columns)"
   ]
  },
  {
   "cell_type": "code",
   "execution_count": 17,
   "metadata": {},
   "outputs": [
    {
     "data": {
      "text/plain": [
       "Index(['Brand', 'Total', 'Releases', '#1 Release', 'Lifetime Gross'], dtype='object')"
      ]
     },
     "execution_count": 17,
     "metadata": {},
     "output_type": "execute_result"
    }
   ],
   "source": [
    "data.columns"
   ]
  },
  {
   "cell_type": "code",
   "execution_count": 22,
   "metadata": {},
   "outputs": [
    {
     "name": "stdout",
     "output_type": "stream",
     "text": [
      "[[69]\n",
      " [56]\n",
      " [39]\n",
      " [28]\n",
      " [46]]\n"
     ]
    }
   ],
   "source": [
    "print(x[:5])"
   ]
  },
  {
   "cell_type": "code",
   "execution_count": 28,
   "metadata": {},
   "outputs": [
    {
     "data": {
      "text/plain": [
       "<AxesSubplot:xlabel='Total', ylabel='Releases'>"
      ]
     },
     "execution_count": 28,
     "metadata": {},
     "output_type": "execute_result"
    },
    {
     "data": {
      "image/png": "[encoded data removed]",
      "text/plain": [
       "<Figure size 432x288 with 1 Axes>"
      ]
     },
     "metadata": {
      "needs_background": "light"
     },
     "output_type": "display_data"
    }
   ],
   "source": [
    "model = LinearRegression()\n",
    "import seaborn as sns\n",
    "data = pd.read_csv(\"/home/apiiit-rkv/Downloads/bomojobrandindices.csv\",sep = '\\t')\n",
    "sns.regplot(x = \"Total\",\n",
    "y = \"Releases\",\n",
    "data = data)"
   ]
  },
  {
   "cell_type": "code",
   "execution_count": 29,
   "metadata": {},
   "outputs": [
    {
     "data": {
      "text/plain": [
       "(33, 4)"
      ]
     },
     "execution_count": 29,
     "metadata": {},
     "output_type": "execute_result"
    }
   ],
   "source": [
    "from sklearn.model_selection import train_test_split\n",
    "xtrain,xtest,ytrain,ytest = train_test_split(data.drop(\"Total\",axis=1),data[\"Total\"],train_size = .75)\n",
    "xtrain.shape"
   ]
  },
  {
   "cell_type": "code",
   "execution_count": 30,
   "metadata": {},
   "outputs": [
    {
     "data": {
      "text/plain": [
       "(33,)"
      ]
     },
     "execution_count": 30,
     "metadata": {},
     "output_type": "execute_result"
    }
   ],
   "source": [
    "ytrain.shape"
   ]
  },
  {
   "cell_type": "code",
   "execution_count": 31,
   "metadata": {},
   "outputs": [
    {
     "data": {
      "text/plain": [
       "(12, 4)"
      ]
     },
     "execution_count": 31,
     "metadata": {},
     "output_type": "execute_result"
    }
   ],
   "source": [
    "xtest.shape"
   ]
  },
  {
   "cell_type": "code",
   "execution_count": 32,
   "metadata": {},
   "outputs": [
    {
     "data": {
      "text/plain": [
       "(12,)"
      ]
     },
     "execution_count": 32,
     "metadata": {},
     "output_type": "execute_result"
    }
   ],
   "source": [
    "ytest.shape"
   ]
  },
  {
   "cell_type": "code",
   "execution_count": null,
   "metadata": {},
   "outputs": [],
   "source": []
  },
  {
   "cell_type": "code",
   "execution_count": 38,
   "metadata": {},
   "outputs": [
    {
     "data": {
      "text/html": [
       "<div>\n",
       "<style scoped>\n",
       "    .dataframe tbody tr th:only-of-type {\n",
       "        vertical-align: middle;\n",
       "    }\n",
       "\n",
       "    .dataframe tbody tr th {\n",
       "        vertical-align: top;\n",
       "    }\n",
       "\n",
       "    .dataframe thead th {\n",
       "        text-align: right;\n",
       "    }\n",
       "</style>\n",
       "<table border=\"1\" class=\"dataframe\">\n",
       "  <thead>\n",
       "    <tr style=\"text-align: right;\">\n",
       "      <th></th>\n",
       "      <th>Brand</th>\n",
       "      <th>Total</th>\n",
       "      <th>Releases</th>\n",
       "      <th>#1 Release</th>\n",
       "      <th>Lifetime Gross</th>\n",
       "    </tr>\n",
       "  </thead>\n",
       "  <tbody>\n",
       "    <tr>\n",
       "      <th>0</th>\n",
       "      <td>24</td>\n",
       "      <td>15806336901</td>\n",
       "      <td>69</td>\n",
       "      <td>2</td>\n",
       "      <td>858373000</td>\n",
       "    </tr>\n",
       "    <tr>\n",
       "      <th>1</th>\n",
       "      <td>21</td>\n",
       "      <td>7018798067</td>\n",
       "      <td>56</td>\n",
       "      <td>16</td>\n",
       "      <td>652270625</td>\n",
       "    </tr>\n",
       "    <tr>\n",
       "      <th>2</th>\n",
       "      <td>22</td>\n",
       "      <td>6325022918</td>\n",
       "      <td>39</td>\n",
       "      <td>26</td>\n",
       "      <td>936662225</td>\n",
       "    </tr>\n",
       "    <tr>\n",
       "      <th>3</th>\n",
       "      <td>30</td>\n",
       "      <td>6078217662</td>\n",
       "      <td>28</td>\n",
       "      <td>14</td>\n",
       "      <td>608581744</td>\n",
       "    </tr>\n",
       "    <tr>\n",
       "      <th>4</th>\n",
       "      <td>9</td>\n",
       "      <td>5815645953</td>\n",
       "      <td>46</td>\n",
       "      <td>31</td>\n",
       "      <td>533345358</td>\n",
       "    </tr>\n",
       "    <tr>\n",
       "      <th>5</th>\n",
       "      <td>15</td>\n",
       "      <td>5792217737</td>\n",
       "      <td>41</td>\n",
       "      <td>24</td>\n",
       "      <td>441226247</td>\n",
       "    </tr>\n",
       "    <tr>\n",
       "      <th>6</th>\n",
       "      <td>41</td>\n",
       "      <td>3154664176</td>\n",
       "      <td>41</td>\n",
       "      <td>15</td>\n",
       "      <td>327481748</td>\n",
       "    </tr>\n",
       "    <tr>\n",
       "      <th>7</th>\n",
       "      <td>3</td>\n",
       "      <td>3077078931</td>\n",
       "      <td>15</td>\n",
       "      <td>26</td>\n",
       "      <td>936662225</td>\n",
       "    </tr>\n",
       "    <tr>\n",
       "      <th>8</th>\n",
       "      <td>43</td>\n",
       "      <td>2774912904</td>\n",
       "      <td>15</td>\n",
       "      <td>9</td>\n",
       "      <td>477373578</td>\n",
       "    </tr>\n",
       "    <tr>\n",
       "      <th>9</th>\n",
       "      <td>18</td>\n",
       "      <td>2759505881</td>\n",
       "      <td>13</td>\n",
       "      <td>36</td>\n",
       "      <td>368384330</td>\n",
       "    </tr>\n",
       "    <tr>\n",
       "      <th>10</th>\n",
       "      <td>5</td>\n",
       "      <td>2451844676</td>\n",
       "      <td>49</td>\n",
       "      <td>10</td>\n",
       "      <td>176040665</td>\n",
       "    </tr>\n",
       "    <tr>\n",
       "      <th>11</th>\n",
       "      <td>17</td>\n",
       "      <td>2079485824</td>\n",
       "      <td>17</td>\n",
       "      <td>38</td>\n",
       "      <td>402111870</td>\n",
       "    </tr>\n",
       "    <tr>\n",
       "      <th>12</th>\n",
       "      <td>28</td>\n",
       "      <td>1930746182</td>\n",
       "      <td>26</td>\n",
       "      <td>28</td>\n",
       "      <td>191204754</td>\n",
       "    </tr>\n",
       "    <tr>\n",
       "      <th>13</th>\n",
       "      <td>36</td>\n",
       "      <td>1918763863</td>\n",
       "      <td>21</td>\n",
       "      <td>25</td>\n",
       "      <td>190241310</td>\n",
       "    </tr>\n",
       "    <tr>\n",
       "      <th>14</th>\n",
       "      <td>42</td>\n",
       "      <td>1842852183</td>\n",
       "      <td>38</td>\n",
       "      <td>30</td>\n",
       "      <td>291710957</td>\n",
       "    </tr>\n",
       "    <tr>\n",
       "      <th>15</th>\n",
       "      <td>4</td>\n",
       "      <td>1740428763</td>\n",
       "      <td>13</td>\n",
       "      <td>13</td>\n",
       "      <td>196573705</td>\n",
       "    </tr>\n",
       "    <tr>\n",
       "      <th>16</th>\n",
       "      <td>37</td>\n",
       "      <td>1729648950</td>\n",
       "      <td>49</td>\n",
       "      <td>15</td>\n",
       "      <td>327481748</td>\n",
       "    </tr>\n",
       "    <tr>\n",
       "      <th>17</th>\n",
       "      <td>23</td>\n",
       "      <td>1520456359</td>\n",
       "      <td>36</td>\n",
       "      <td>34</td>\n",
       "      <td>158119460</td>\n",
       "    </tr>\n",
       "    <tr>\n",
       "      <th>18</th>\n",
       "      <td>31</td>\n",
       "      <td>1422911399</td>\n",
       "      <td>19</td>\n",
       "      <td>28</td>\n",
       "      <td>191204754</td>\n",
       "    </tr>\n",
       "    <tr>\n",
       "      <th>19</th>\n",
       "      <td>35</td>\n",
       "      <td>1023596031</td>\n",
       "      <td>30</td>\n",
       "      <td>3</td>\n",
       "      <td>169106725</td>\n",
       "    </tr>\n",
       "    <tr>\n",
       "      <th>20</th>\n",
       "      <td>11</td>\n",
       "      <td>947671338</td>\n",
       "      <td>16</td>\n",
       "      <td>0</td>\n",
       "      <td>210614939</td>\n",
       "    </tr>\n",
       "    <tr>\n",
       "      <th>21</th>\n",
       "      <td>39</td>\n",
       "      <td>889955830</td>\n",
       "      <td>8</td>\n",
       "      <td>1</td>\n",
       "      <td>334191110</td>\n",
       "    </tr>\n",
       "    <tr>\n",
       "      <th>22</th>\n",
       "      <td>44</td>\n",
       "      <td>786497181</td>\n",
       "      <td>8</td>\n",
       "      <td>33</td>\n",
       "      <td>257760692</td>\n",
       "    </tr>\n",
       "    <tr>\n",
       "      <th>23</th>\n",
       "      <td>40</td>\n",
       "      <td>765635362</td>\n",
       "      <td>16</td>\n",
       "      <td>17</td>\n",
       "      <td>90508336</td>\n",
       "    </tr>\n",
       "    <tr>\n",
       "      <th>24</th>\n",
       "      <td>7</td>\n",
       "      <td>652824187</td>\n",
       "      <td>29</td>\n",
       "      <td>22</td>\n",
       "      <td>68947075</td>\n",
       "    </tr>\n",
       "    <tr>\n",
       "      <th>25</th>\n",
       "      <td>19</td>\n",
       "      <td>645661825</td>\n",
       "      <td>10</td>\n",
       "      <td>32</td>\n",
       "      <td>158348367</td>\n",
       "    </tr>\n",
       "    <tr>\n",
       "      <th>26</th>\n",
       "      <td>33</td>\n",
       "      <td>645459186</td>\n",
       "      <td>6</td>\n",
       "      <td>29</td>\n",
       "      <td>227471070</td>\n",
       "    </tr>\n",
       "    <tr>\n",
       "      <th>27</th>\n",
       "      <td>25</td>\n",
       "      <td>580145113</td>\n",
       "      <td>4</td>\n",
       "      <td>11</td>\n",
       "      <td>200676069</td>\n",
       "    </tr>\n",
       "    <tr>\n",
       "      <th>28</th>\n",
       "      <td>16</td>\n",
       "      <td>578586146</td>\n",
       "      <td>10</td>\n",
       "      <td>23</td>\n",
       "      <td>153294164</td>\n",
       "    </tr>\n",
       "    <tr>\n",
       "      <th>29</th>\n",
       "      <td>27</td>\n",
       "      <td>574728259</td>\n",
       "      <td>11</td>\n",
       "      <td>35</td>\n",
       "      <td>81001787</td>\n",
       "    </tr>\n",
       "    <tr>\n",
       "      <th>30</th>\n",
       "      <td>29</td>\n",
       "      <td>495237720</td>\n",
       "      <td>14</td>\n",
       "      <td>19</td>\n",
       "      <td>132072926</td>\n",
       "    </tr>\n",
       "    <tr>\n",
       "      <th>31</th>\n",
       "      <td>10</td>\n",
       "      <td>454625110</td>\n",
       "      <td>16</td>\n",
       "      <td>39</td>\n",
       "      <td>63686397</td>\n",
       "    </tr>\n",
       "    <tr>\n",
       "      <th>32</th>\n",
       "      <td>26</td>\n",
       "      <td>436669213</td>\n",
       "      <td>21</td>\n",
       "      <td>20</td>\n",
       "      <td>120091123</td>\n",
       "    </tr>\n",
       "    <tr>\n",
       "      <th>33</th>\n",
       "      <td>12</td>\n",
       "      <td>359952780</td>\n",
       "      <td>8</td>\n",
       "      <td>12</td>\n",
       "      <td>90559416</td>\n",
       "    </tr>\n",
       "    <tr>\n",
       "      <th>34</th>\n",
       "      <td>32</td>\n",
       "      <td>356238494</td>\n",
       "      <td>7</td>\n",
       "      <td>5</td>\n",
       "      <td>206459076</td>\n",
       "    </tr>\n",
       "    <tr>\n",
       "      <th>35</th>\n",
       "      <td>34</td>\n",
       "      <td>346533876</td>\n",
       "      <td>11</td>\n",
       "      <td>41</td>\n",
       "      <td>121697323</td>\n",
       "    </tr>\n",
       "    <tr>\n",
       "      <th>36</th>\n",
       "      <td>13</td>\n",
       "      <td>337576791</td>\n",
       "      <td>8</td>\n",
       "      <td>21</td>\n",
       "      <td>90288712</td>\n",
       "    </tr>\n",
       "    <tr>\n",
       "      <th>37</th>\n",
       "      <td>0</td>\n",
       "      <td>333777829</td>\n",
       "      <td>16</td>\n",
       "      <td>6</td>\n",
       "      <td>106834564</td>\n",
       "    </tr>\n",
       "    <tr>\n",
       "      <th>38</th>\n",
       "      <td>20</td>\n",
       "      <td>300158323</td>\n",
       "      <td>6</td>\n",
       "      <td>7</td>\n",
       "      <td>75286229</td>\n",
       "    </tr>\n",
       "    <tr>\n",
       "      <th>39</th>\n",
       "      <td>1</td>\n",
       "      <td>276088604</td>\n",
       "      <td>4</td>\n",
       "      <td>40</td>\n",
       "      <td>107509799</td>\n",
       "    </tr>\n",
       "    <tr>\n",
       "      <th>40</th>\n",
       "      <td>2</td>\n",
       "      <td>204376048</td>\n",
       "      <td>43</td>\n",
       "      <td>18</td>\n",
       "      <td>47695371</td>\n",
       "    </tr>\n",
       "    <tr>\n",
       "      <th>41</th>\n",
       "      <td>8</td>\n",
       "      <td>171686009</td>\n",
       "      <td>10</td>\n",
       "      <td>4</td>\n",
       "      <td>61186570</td>\n",
       "    </tr>\n",
       "    <tr>\n",
       "      <th>42</th>\n",
       "      <td>14</td>\n",
       "      <td>151620585</td>\n",
       "      <td>8</td>\n",
       "      <td>8</td>\n",
       "      <td>32011576</td>\n",
       "    </tr>\n",
       "    <tr>\n",
       "      <th>43</th>\n",
       "      <td>6</td>\n",
       "      <td>73338237</td>\n",
       "      <td>5</td>\n",
       "      <td>27</td>\n",
       "      <td>30617396</td>\n",
       "    </tr>\n",
       "    <tr>\n",
       "      <th>44</th>\n",
       "      <td>38</td>\n",
       "      <td>70666453</td>\n",
       "      <td>26</td>\n",
       "      <td>37</td>\n",
       "      <td>19202743</td>\n",
       "    </tr>\n",
       "  </tbody>\n",
       "</table>\n",
       "</div>"
      ],
      "text/plain": [
       "    Brand        Total  Releases  #1 Release  Lifetime Gross\n",
       "0      24  15806336901        69           2       858373000\n",
       "1      21   7018798067        56          16       652270625\n",
       "2      22   6325022918        39          26       936662225\n",
       "3      30   6078217662        28          14       608581744\n",
       "4       9   5815645953        46          31       533345358\n",
       "5      15   5792217737        41          24       441226247\n",
       "6      41   3154664176        41          15       327481748\n",
       "7       3   3077078931        15          26       936662225\n",
       "8      43   2774912904        15           9       477373578\n",
       "9      18   2759505881        13          36       368384330\n",
       "10      5   2451844676        49          10       176040665\n",
       "11     17   2079485824        17          38       402111870\n",
       "12     28   1930746182        26          28       191204754\n",
       "13     36   1918763863        21          25       190241310\n",
       "14     42   1842852183        38          30       291710957\n",
       "15      4   1740428763        13          13       196573705\n",
       "16     37   1729648950        49          15       327481748\n",
       "17     23   1520456359        36          34       158119460\n",
       "18     31   1422911399        19          28       191204754\n",
       "19     35   1023596031        30           3       169106725\n",
       "20     11    947671338        16           0       210614939\n",
       "21     39    889955830         8           1       334191110\n",
       "22     44    786497181         8          33       257760692\n",
       "23     40    765635362        16          17        90508336\n",
       "24      7    652824187        29          22        68947075\n",
       "25     19    645661825        10          32       158348367\n",
       "26     33    645459186         6          29       227471070\n",
       "27     25    580145113         4          11       200676069\n",
       "28     16    578586146        10          23       153294164\n",
       "29     27    574728259        11          35        81001787\n",
       "30     29    495237720        14          19       132072926\n",
       "31     10    454625110        16          39        63686397\n",
       "32     26    436669213        21          20       120091123\n",
       "33     12    359952780         8          12        90559416\n",
       "34     32    356238494         7           5       206459076\n",
       "35     34    346533876        11          41       121697323\n",
       "36     13    337576791         8          21        90288712\n",
       "37      0    333777829        16           6       106834564\n",
       "38     20    300158323         6           7        75286229\n",
       "39      1    276088604         4          40       107509799\n",
       "40      2    204376048        43          18        47695371\n",
       "41      8    171686009        10           4        61186570\n",
       "42     14    151620585         8           8        32011576\n",
       "43      6     73338237         5          27        30617396\n",
       "44     38     70666453        26          37        19202743"
      ]
     },
     "execution_count": 38,
     "metadata": {},
     "output_type": "execute_result"
    }
   ],
   "source": [
    "data_onehot = pd.get_dummies(data, columns=['Brand', '#1 Release'])\n",
    "# Import LabelEncoder\n",
    "from sklearn.preprocessing import LabelEncoder\n",
    "# Instantiate LabelEncoder\n",
    "le = LabelEncoder()\n",
    "# Apply le on categorical feature columns\n",
    "data[['Brand', '#1 Release']] = data[['Brand', '#1 Release']].apply(lambda col: le.fit_transform(col))\n",
    "\n",
    "data['Brand'] = data['Brand'].replace('National Lampoon', 0)\n",
    "data"
   ]
  },
  {
   "cell_type": "code",
   "execution_count": 56,
   "metadata": {},
   "outputs": [
    {
     "name": "stderr",
     "output_type": "stream",
     "text": [
      "<ipython-input-56-e9af67c349b0>:11: DataConversionWarning: A column-vector y was passed when a 1d array was expected. Please change the shape of y to (n_samples,), for example using ravel().\n",
      "  model.fit(xtrain, ytrain)\n"
     ]
    },
    {
     "data": {
      "text/plain": [
       "RandomForestClassifier(random_state=42)"
      ]
     },
     "execution_count": 56,
     "metadata": {},
     "output_type": "execute_result"
    }
   ],
   "source": [
    "\n",
    "from sklearn.model_selection import train_test_split\n",
    "from sklearn.ensemble import RandomForestClassifier  \n",
    "\n",
    "\n",
    "xtrain, xtest, ytrain, ytest = train_test_split(x, y, test_size=0.2, random_state=42)\n",
    "\n",
    "\n",
    "model = RandomForestClassifier(n_estimators=100, random_state=42) \n",
    "\n",
    "# Fit the model to the training data\n",
    "model.fit(xtrain, ytrain)"
   ]
  },
  {
   "cell_type": "code",
   "execution_count": 59,
   "metadata": {},
   "outputs": [],
   "source": [
    "y_pred = model.predict(xtest)"
   ]
  },
  {
   "cell_type": "code",
   "execution_count": 60,
   "metadata": {},
   "outputs": [
    {
     "name": "stdout",
     "output_type": "stream",
     "text": [
      "[ 580145113  578586146  300158323  580145113  574728259  578586146\n",
      "  204376048   70666453 3077078931]\n"
     ]
    }
   ],
   "source": [
    "print(y_pred)\n"
   ]
  },
  {
   "cell_type": "code",
   "execution_count": 64,
   "metadata": {},
   "outputs": [
    {
     "name": "stdout",
     "output_type": "stream",
     "text": [
      "[[ 276088604]\n",
      " [ 645661825]\n",
      " [ 645459186]\n",
      " [  73338237]\n",
      " [ 346533876]\n",
      " [ 171686009]\n",
      " [5815645953]\n",
      " [1930746182]\n",
      " [2774912904]]\n"
     ]
    }
   ],
   "source": [
    "print(ytest[:20])"
   ]
  },
  {
   "cell_type": "code",
   "execution_count": 65,
   "metadata": {},
   "outputs": [
    {
     "name": "stdout",
     "output_type": "stream",
     "text": [
      "[[ 276088604]\n",
      " [ 645661825]\n",
      " [ 645459186]\n",
      " [  73338237]\n",
      " [ 346533876]\n",
      " [ 171686009]\n",
      " [5815645953]\n",
      " [1930746182]\n",
      " [2774912904]]\n"
     ]
    }
   ],
   "source": [
    "print(ytest[:20])\n"
   ]
  },
  {
   "cell_type": "code",
   "execution_count": 67,
   "metadata": {},
   "outputs": [
    {
     "name": "stdout",
     "output_type": "stream",
     "text": [
      "580145113\n",
      "578586146\n",
      "300158323\n",
      "580145113\n",
      "574728259\n",
      "578586146\n",
      "204376048\n",
      "70666453\n",
      "3077078931\n"
     ]
    }
   ],
   "source": [
    "for i in y_pred[:10]:\n",
    " print(i)"
   ]
  },
  {
   "cell_type": "code",
   "execution_count": 68,
   "metadata": {},
   "outputs": [
    {
     "data": {
      "text/plain": [
       "0.6944444444444444"
      ]
     },
     "execution_count": 68,
     "metadata": {},
     "output_type": "execute_result"
    }
   ],
   "source": [
    "model.score(xtrain, ytrain )"
   ]
  },
  {
   "cell_type": "code",
   "execution_count": 71,
   "metadata": {},
   "outputs": [
    {
     "data": {
      "text/plain": [
       "[<matplotlib.lines.Line2D at 0x7f6f2faeb910>]"
      ]
     },
     "execution_count": 71,
     "metadata": {},
     "output_type": "execute_result"
    },
    {
     "data": {
      "image/png": "[encoded data removed]",
      "text/plain": [
       "<Figure size 432x288 with 1 Axes>"
      ]
     },
     "metadata": {
      "needs_background": "light"
     },
     "output_type": "display_data"
    }
   ],
   "source": [
    "plt.scatter(xtest,ytest)\n",
    "plt.plot(y_pred)"
   ]
  },
  {
   "cell_type": "code",
   "execution_count": 72,
   "metadata": {},
   "outputs": [
    {
     "data": {
      "text/plain": [
       "1070205567.5555556"
      ]
     },
     "execution_count": 72,
     "metadata": {},
     "output_type": "execute_result"
    }
   ],
   "source": [
    "from sklearn.metrics import mean_absolute_error, mean_squared_error, mean_squared_log_error\n",
    "mean_absolute_error(ytest, y_pred)"
   ]
  },
  {
   "cell_type": "code",
   "execution_count": 73,
   "metadata": {},
   "outputs": [
    {
     "data": {
      "text/plain": [
       "-1.294734992999271e+17"
      ]
     },
     "execution_count": 73,
     "metadata": {},
     "output_type": "execute_result"
    }
   ],
   "source": [
    "mean_squared_error(ytest, y_pred)"
   ]
  },
  {
   "cell_type": "code",
   "execution_count": 74,
   "metadata": {},
   "outputs": [
    {
     "data": {
      "text/plain": [
       "0.6944444444444444"
      ]
     },
     "execution_count": 74,
     "metadata": {},
     "output_type": "execute_result"
    }
   ],
   "source": [
    "model.score(xtrain,ytrain)"
   ]
  },
  {
   "cell_type": "code",
   "execution_count": 80,
   "metadata": {},
   "outputs": [
    {
     "data": {
      "text/plain": [
       "PolynomialFeatures()"
      ]
     },
     "execution_count": 80,
     "metadata": {},
     "output_type": "execute_result"
    }
   ],
   "source": [
    "import numpy as np\n",
    "import matplotlib.pyplot as plt\n",
    "from sklearn.preprocessing import PolynomialFeatures\n",
    "poly = PolynomialFeatures(degree=2) \n",
    "lin = LinearRegression()\n",
    "x_train = poly.fit_transform(x)\n",
    "poly.fit(x_train,y)\n",
    "PolynomialFeatures()\n"
   ]
  },
  {
   "cell_type": "code",
   "execution_count": 81,
   "metadata": {},
   "outputs": [],
   "source": [
    "lin = LinearRegression()"
   ]
  },
  {
   "cell_type": "code",
   "execution_count": 87,
   "metadata": {},
   "outputs": [],
   "source": [
    "from sklearn.linear_model import LogisticRegression\n"
   ]
  },
  {
   "cell_type": "code",
   "execution_count": 89,
   "metadata": {},
   "outputs": [
    {
     "name": "stdout",
     "output_type": "stream",
     "text": [
      "<class 'pandas.core.frame.DataFrame'>\n",
      "RangeIndex: 45 entries, 0 to 44\n",
      "Data columns (total 1 columns):\n",
      " #   Column                                          Non-Null Count  Dtype \n",
      "---  ------                                          --------------  ----- \n",
      " 0   Brand\tTotal\tReleases\t#1 Release\tLifetime Gross  45 non-null     object\n",
      "dtypes: object(1)\n",
      "memory usage: 488.0+ bytes\n"
     ]
    }
   ],
   "source": [
    "log = LogisticRegression()\n",
    "import pandas as pd\n",
    "data = pd.read_csv(\"/home/apiiit-rkv/Downloads/bomojobrandindices.csv\")\n",
    "data.info()"
   ]
  },
  {
   "cell_type": "code",
   "execution_count": 91,
   "metadata": {},
   "outputs": [
    {
     "name": "stdout",
     "output_type": "stream",
     "text": [
      "<class 'pandas.core.frame.DataFrame'>\n",
      "RangeIndex: 45 entries, 0 to 44\n",
      "Data columns (total 5 columns):\n",
      " #   Column          Non-Null Count  Dtype \n",
      "---  ------          --------------  ----- \n",
      " 0   Brand           45 non-null     object\n",
      " 1   Total           45 non-null     int64 \n",
      " 2   Releases        45 non-null     int64 \n",
      " 3   #1 Release      45 non-null     object\n",
      " 4   Lifetime Gross  45 non-null     int64 \n",
      "dtypes: int64(3), object(2)\n",
      "memory usage: 1.9+ KB\n"
     ]
    }
   ],
   "source": [
    "data = pd.read_csv(\"/home/apiiit-rkv/Downloads/bomojobrandindices.csv\",sep = \"\\t\")\n",
    "data.info()"
   ]
  },
  {
   "cell_type": "code",
   "execution_count": 92,
   "metadata": {},
   "outputs": [
    {
     "data": {
      "text/plain": [
       "array([858373000, 652270625, 936662225, 608581744, 533345358, 441226247,\n",
       "       327481748, 477373578, 368384330, 176040665, 402111870, 191204754,\n",
       "       190241310, 291710957, 196573705, 158119460, 169106725, 210614939,\n",
       "       334191110, 257760692,  90508336,  68947075, 158348367, 227471070,\n",
       "       200676069, 153294164,  81001787, 132072926,  63686397, 120091123,\n",
       "        90559416, 206459076, 121697323,  90288712, 106834564,  75286229,\n",
       "       107509799,  47695371,  61186570,  32011576,  30617396,  19202743])"
      ]
     },
     "execution_count": 92,
     "metadata": {},
     "output_type": "execute_result"
    }
   ],
   "source": [
    "data[\"Lifetime Gross\"].unique()"
   ]
  },
  {
   "cell_type": "code",
   "execution_count": 94,
   "metadata": {},
   "outputs": [
    {
     "name": "stdout",
     "output_type": "stream",
     "text": [
      "Brandobject\n",
      "Totalint64\n",
      "Releasesint64\n",
      "#1 Releaseobject\n",
      "Lifetime Grossint64\n"
     ]
    }
   ],
   "source": [
    "for i in data.columns:\n",
    "    print(f\"{i}{data[i].dtype}\")"
   ]
  },
  {
   "cell_type": "code",
   "execution_count": 95,
   "metadata": {},
   "outputs": [
    {
     "data": {
      "text/plain": [
       "Brand             0\n",
       "Total             0\n",
       "Releases          0\n",
       "#1 Release        0\n",
       "Lifetime Gross    0\n",
       "dtype: int64"
      ]
     },
     "execution_count": 95,
     "metadata": {},
     "output_type": "execute_result"
    }
   ],
   "source": [
    "data.isna().sum()"
   ]
  },
  {
   "cell_type": "code",
   "execution_count": 96,
   "metadata": {},
   "outputs": [
    {
     "name": "stdout",
     "output_type": "stream",
     "text": [
      "Brand\n",
      "#1 Release\n"
     ]
    }
   ],
   "source": [
    "for column in data.columns:\n",
    "    if data[column].dtype == \"object\":\n",
    "        print(column)"
   ]
  },
  {
   "cell_type": "code",
   "execution_count": 97,
   "metadata": {},
   "outputs": [],
   "source": [
    "le = LabelEncoder()\n",
    "for column in data.columns:\n",
    "    if data[column].dtype == \"object\":\n",
    "        data[column] = le.fit_transform(data[column])"
   ]
  },
  {
   "cell_type": "code",
   "execution_count": 98,
   "metadata": {},
   "outputs": [
    {
     "data": {
      "text/html": [
       "<div>\n",
       "<style scoped>\n",
       "    .dataframe tbody tr th:only-of-type {\n",
       "        vertical-align: middle;\n",
       "    }\n",
       "\n",
       "    .dataframe tbody tr th {\n",
       "        vertical-align: top;\n",
       "    }\n",
       "\n",
       "    .dataframe thead th {\n",
       "        text-align: right;\n",
       "    }\n",
       "</style>\n",
       "<table border=\"1\" class=\"dataframe\">\n",
       "  <thead>\n",
       "    <tr style=\"text-align: right;\">\n",
       "      <th></th>\n",
       "      <th>Brand</th>\n",
       "      <th>Total</th>\n",
       "      <th>Releases</th>\n",
       "      <th>#1 Release</th>\n",
       "      <th>Lifetime Gross</th>\n",
       "    </tr>\n",
       "  </thead>\n",
       "  <tbody>\n",
       "    <tr>\n",
       "      <th>0</th>\n",
       "      <td>24</td>\n",
       "      <td>15806336901</td>\n",
       "      <td>69</td>\n",
       "      <td>2</td>\n",
       "      <td>858373000</td>\n",
       "    </tr>\n",
       "    <tr>\n",
       "      <th>1</th>\n",
       "      <td>21</td>\n",
       "      <td>7018798067</td>\n",
       "      <td>56</td>\n",
       "      <td>16</td>\n",
       "      <td>652270625</td>\n",
       "    </tr>\n",
       "    <tr>\n",
       "      <th>2</th>\n",
       "      <td>22</td>\n",
       "      <td>6325022918</td>\n",
       "      <td>39</td>\n",
       "      <td>26</td>\n",
       "      <td>936662225</td>\n",
       "    </tr>\n",
       "    <tr>\n",
       "      <th>3</th>\n",
       "      <td>30</td>\n",
       "      <td>6078217662</td>\n",
       "      <td>28</td>\n",
       "      <td>14</td>\n",
       "      <td>608581744</td>\n",
       "    </tr>\n",
       "    <tr>\n",
       "      <th>4</th>\n",
       "      <td>9</td>\n",
       "      <td>5815645953</td>\n",
       "      <td>46</td>\n",
       "      <td>31</td>\n",
       "      <td>533345358</td>\n",
       "    </tr>\n",
       "  </tbody>\n",
       "</table>\n",
       "</div>"
      ],
      "text/plain": [
       "   Brand        Total  Releases  #1 Release  Lifetime Gross\n",
       "0     24  15806336901        69           2       858373000\n",
       "1     21   7018798067        56          16       652270625\n",
       "2     22   6325022918        39          26       936662225\n",
       "3     30   6078217662        28          14       608581744\n",
       "4      9   5815645953        46          31       533345358"
      ]
     },
     "execution_count": 98,
     "metadata": {},
     "output_type": "execute_result"
    }
   ],
   "source": [
    "data.head()"
   ]
  },
  {
   "cell_type": "code",
   "execution_count": 99,
   "metadata": {},
   "outputs": [
    {
     "name": "stdout",
     "output_type": "stream",
     "text": [
      "<class 'pandas.core.frame.DataFrame'>\n",
      "RangeIndex: 45 entries, 0 to 44\n",
      "Data columns (total 5 columns):\n",
      " #   Column          Non-Null Count  Dtype\n",
      "---  ------          --------------  -----\n",
      " 0   Brand           45 non-null     int64\n",
      " 1   Total           45 non-null     int64\n",
      " 2   Releases        45 non-null     int64\n",
      " 3   #1 Release      45 non-null     int64\n",
      " 4   Lifetime Gross  45 non-null     int64\n",
      "dtypes: int64(5)\n",
      "memory usage: 1.9 KB\n"
     ]
    }
   ],
   "source": [
    "data.info()"
   ]
  },
  {
   "cell_type": "code",
   "execution_count": 100,
   "metadata": {},
   "outputs": [],
   "source": [
    "from sklearn.linear_model import LogisticRegression\n"
   ]
  },
  {
   "cell_type": "code",
   "execution_count": 103,
   "metadata": {},
   "outputs": [],
   "source": [
    "log = LogisticRegression()"
   ]
  },
  {
   "cell_type": "code",
   "execution_count": 104,
   "metadata": {},
   "outputs": [],
   "source": [
    "x = data.drop(\"#1 Release\",axis=1)\n",
    "y = data[\"#1 Release\"]"
   ]
  },
  {
   "cell_type": "code",
   "execution_count": 105,
   "metadata": {},
   "outputs": [
    {
     "data": {
      "text/html": [
       "<div>\n",
       "<style scoped>\n",
       "    .dataframe tbody tr th:only-of-type {\n",
       "        vertical-align: middle;\n",
       "    }\n",
       "\n",
       "    .dataframe tbody tr th {\n",
       "        vertical-align: top;\n",
       "    }\n",
       "\n",
       "    .dataframe thead th {\n",
       "        text-align: right;\n",
       "    }\n",
       "</style>\n",
       "<table border=\"1\" class=\"dataframe\">\n",
       "  <thead>\n",
       "    <tr style=\"text-align: right;\">\n",
       "      <th></th>\n",
       "      <th>Brand</th>\n",
       "      <th>Total</th>\n",
       "      <th>Releases</th>\n",
       "      <th>Lifetime Gross</th>\n",
       "    </tr>\n",
       "  </thead>\n",
       "  <tbody>\n",
       "    <tr>\n",
       "      <th>0</th>\n",
       "      <td>24</td>\n",
       "      <td>15806336901</td>\n",
       "      <td>69</td>\n",
       "      <td>858373000</td>\n",
       "    </tr>\n",
       "    <tr>\n",
       "      <th>1</th>\n",
       "      <td>21</td>\n",
       "      <td>7018798067</td>\n",
       "      <td>56</td>\n",
       "      <td>652270625</td>\n",
       "    </tr>\n",
       "    <tr>\n",
       "      <th>2</th>\n",
       "      <td>22</td>\n",
       "      <td>6325022918</td>\n",
       "      <td>39</td>\n",
       "      <td>936662225</td>\n",
       "    </tr>\n",
       "    <tr>\n",
       "      <th>3</th>\n",
       "      <td>30</td>\n",
       "      <td>6078217662</td>\n",
       "      <td>28</td>\n",
       "      <td>608581744</td>\n",
       "    </tr>\n",
       "    <tr>\n",
       "      <th>4</th>\n",
       "      <td>9</td>\n",
       "      <td>5815645953</td>\n",
       "      <td>46</td>\n",
       "      <td>533345358</td>\n",
       "    </tr>\n",
       "    <tr>\n",
       "      <th>5</th>\n",
       "      <td>15</td>\n",
       "      <td>5792217737</td>\n",
       "      <td>41</td>\n",
       "      <td>441226247</td>\n",
       "    </tr>\n",
       "    <tr>\n",
       "      <th>6</th>\n",
       "      <td>41</td>\n",
       "      <td>3154664176</td>\n",
       "      <td>41</td>\n",
       "      <td>327481748</td>\n",
       "    </tr>\n",
       "    <tr>\n",
       "      <th>7</th>\n",
       "      <td>3</td>\n",
       "      <td>3077078931</td>\n",
       "      <td>15</td>\n",
       "      <td>936662225</td>\n",
       "    </tr>\n",
       "    <tr>\n",
       "      <th>8</th>\n",
       "      <td>43</td>\n",
       "      <td>2774912904</td>\n",
       "      <td>15</td>\n",
       "      <td>477373578</td>\n",
       "    </tr>\n",
       "    <tr>\n",
       "      <th>9</th>\n",
       "      <td>18</td>\n",
       "      <td>2759505881</td>\n",
       "      <td>13</td>\n",
       "      <td>368384330</td>\n",
       "    </tr>\n",
       "    <tr>\n",
       "      <th>10</th>\n",
       "      <td>5</td>\n",
       "      <td>2451844676</td>\n",
       "      <td>49</td>\n",
       "      <td>176040665</td>\n",
       "    </tr>\n",
       "    <tr>\n",
       "      <th>11</th>\n",
       "      <td>17</td>\n",
       "      <td>2079485824</td>\n",
       "      <td>17</td>\n",
       "      <td>402111870</td>\n",
       "    </tr>\n",
       "    <tr>\n",
       "      <th>12</th>\n",
       "      <td>28</td>\n",
       "      <td>1930746182</td>\n",
       "      <td>26</td>\n",
       "      <td>191204754</td>\n",
       "    </tr>\n",
       "    <tr>\n",
       "      <th>13</th>\n",
       "      <td>36</td>\n",
       "      <td>1918763863</td>\n",
       "      <td>21</td>\n",
       "      <td>190241310</td>\n",
       "    </tr>\n",
       "    <tr>\n",
       "      <th>14</th>\n",
       "      <td>42</td>\n",
       "      <td>1842852183</td>\n",
       "      <td>38</td>\n",
       "      <td>291710957</td>\n",
       "    </tr>\n",
       "    <tr>\n",
       "      <th>15</th>\n",
       "      <td>4</td>\n",
       "      <td>1740428763</td>\n",
       "      <td>13</td>\n",
       "      <td>196573705</td>\n",
       "    </tr>\n",
       "    <tr>\n",
       "      <th>16</th>\n",
       "      <td>37</td>\n",
       "      <td>1729648950</td>\n",
       "      <td>49</td>\n",
       "      <td>327481748</td>\n",
       "    </tr>\n",
       "    <tr>\n",
       "      <th>17</th>\n",
       "      <td>23</td>\n",
       "      <td>1520456359</td>\n",
       "      <td>36</td>\n",
       "      <td>158119460</td>\n",
       "    </tr>\n",
       "    <tr>\n",
       "      <th>18</th>\n",
       "      <td>31</td>\n",
       "      <td>1422911399</td>\n",
       "      <td>19</td>\n",
       "      <td>191204754</td>\n",
       "    </tr>\n",
       "    <tr>\n",
       "      <th>19</th>\n",
       "      <td>35</td>\n",
       "      <td>1023596031</td>\n",
       "      <td>30</td>\n",
       "      <td>169106725</td>\n",
       "    </tr>\n",
       "    <tr>\n",
       "      <th>20</th>\n",
       "      <td>11</td>\n",
       "      <td>947671338</td>\n",
       "      <td>16</td>\n",
       "      <td>210614939</td>\n",
       "    </tr>\n",
       "    <tr>\n",
       "      <th>21</th>\n",
       "      <td>39</td>\n",
       "      <td>889955830</td>\n",
       "      <td>8</td>\n",
       "      <td>334191110</td>\n",
       "    </tr>\n",
       "    <tr>\n",
       "      <th>22</th>\n",
       "      <td>44</td>\n",
       "      <td>786497181</td>\n",
       "      <td>8</td>\n",
       "      <td>257760692</td>\n",
       "    </tr>\n",
       "    <tr>\n",
       "      <th>23</th>\n",
       "      <td>40</td>\n",
       "      <td>765635362</td>\n",
       "      <td>16</td>\n",
       "      <td>90508336</td>\n",
       "    </tr>\n",
       "    <tr>\n",
       "      <th>24</th>\n",
       "      <td>7</td>\n",
       "      <td>652824187</td>\n",
       "      <td>29</td>\n",
       "      <td>68947075</td>\n",
       "    </tr>\n",
       "    <tr>\n",
       "      <th>25</th>\n",
       "      <td>19</td>\n",
       "      <td>645661825</td>\n",
       "      <td>10</td>\n",
       "      <td>158348367</td>\n",
       "    </tr>\n",
       "    <tr>\n",
       "      <th>26</th>\n",
       "      <td>33</td>\n",
       "      <td>645459186</td>\n",
       "      <td>6</td>\n",
       "      <td>227471070</td>\n",
       "    </tr>\n",
       "    <tr>\n",
       "      <th>27</th>\n",
       "      <td>25</td>\n",
       "      <td>580145113</td>\n",
       "      <td>4</td>\n",
       "      <td>200676069</td>\n",
       "    </tr>\n",
       "    <tr>\n",
       "      <th>28</th>\n",
       "      <td>16</td>\n",
       "      <td>578586146</td>\n",
       "      <td>10</td>\n",
       "      <td>153294164</td>\n",
       "    </tr>\n",
       "    <tr>\n",
       "      <th>29</th>\n",
       "      <td>27</td>\n",
       "      <td>574728259</td>\n",
       "      <td>11</td>\n",
       "      <td>81001787</td>\n",
       "    </tr>\n",
       "    <tr>\n",
       "      <th>30</th>\n",
       "      <td>29</td>\n",
       "      <td>495237720</td>\n",
       "      <td>14</td>\n",
       "      <td>132072926</td>\n",
       "    </tr>\n",
       "    <tr>\n",
       "      <th>31</th>\n",
       "      <td>10</td>\n",
       "      <td>454625110</td>\n",
       "      <td>16</td>\n",
       "      <td>63686397</td>\n",
       "    </tr>\n",
       "    <tr>\n",
       "      <th>32</th>\n",
       "      <td>26</td>\n",
       "      <td>436669213</td>\n",
       "      <td>21</td>\n",
       "      <td>120091123</td>\n",
       "    </tr>\n",
       "    <tr>\n",
       "      <th>33</th>\n",
       "      <td>12</td>\n",
       "      <td>359952780</td>\n",
       "      <td>8</td>\n",
       "      <td>90559416</td>\n",
       "    </tr>\n",
       "    <tr>\n",
       "      <th>34</th>\n",
       "      <td>32</td>\n",
       "      <td>356238494</td>\n",
       "      <td>7</td>\n",
       "      <td>206459076</td>\n",
       "    </tr>\n",
       "    <tr>\n",
       "      <th>35</th>\n",
       "      <td>34</td>\n",
       "      <td>346533876</td>\n",
       "      <td>11</td>\n",
       "      <td>121697323</td>\n",
       "    </tr>\n",
       "    <tr>\n",
       "      <th>36</th>\n",
       "      <td>13</td>\n",
       "      <td>337576791</td>\n",
       "      <td>8</td>\n",
       "      <td>90288712</td>\n",
       "    </tr>\n",
       "    <tr>\n",
       "      <th>37</th>\n",
       "      <td>0</td>\n",
       "      <td>333777829</td>\n",
       "      <td>16</td>\n",
       "      <td>106834564</td>\n",
       "    </tr>\n",
       "    <tr>\n",
       "      <th>38</th>\n",
       "      <td>20</td>\n",
       "      <td>300158323</td>\n",
       "      <td>6</td>\n",
       "      <td>75286229</td>\n",
       "    </tr>\n",
       "    <tr>\n",
       "      <th>39</th>\n",
       "      <td>1</td>\n",
       "      <td>276088604</td>\n",
       "      <td>4</td>\n",
       "      <td>107509799</td>\n",
       "    </tr>\n",
       "    <tr>\n",
       "      <th>40</th>\n",
       "      <td>2</td>\n",
       "      <td>204376048</td>\n",
       "      <td>43</td>\n",
       "      <td>47695371</td>\n",
       "    </tr>\n",
       "    <tr>\n",
       "      <th>41</th>\n",
       "      <td>8</td>\n",
       "      <td>171686009</td>\n",
       "      <td>10</td>\n",
       "      <td>61186570</td>\n",
       "    </tr>\n",
       "    <tr>\n",
       "      <th>42</th>\n",
       "      <td>14</td>\n",
       "      <td>151620585</td>\n",
       "      <td>8</td>\n",
       "      <td>32011576</td>\n",
       "    </tr>\n",
       "    <tr>\n",
       "      <th>43</th>\n",
       "      <td>6</td>\n",
       "      <td>73338237</td>\n",
       "      <td>5</td>\n",
       "      <td>30617396</td>\n",
       "    </tr>\n",
       "    <tr>\n",
       "      <th>44</th>\n",
       "      <td>38</td>\n",
       "      <td>70666453</td>\n",
       "      <td>26</td>\n",
       "      <td>19202743</td>\n",
       "    </tr>\n",
       "  </tbody>\n",
       "</table>\n",
       "</div>"
      ],
      "text/plain": [
       "    Brand        Total  Releases  Lifetime Gross\n",
       "0      24  15806336901        69       858373000\n",
       "1      21   7018798067        56       652270625\n",
       "2      22   6325022918        39       936662225\n",
       "3      30   6078217662        28       608581744\n",
       "4       9   5815645953        46       533345358\n",
       "5      15   5792217737        41       441226247\n",
       "6      41   3154664176        41       327481748\n",
       "7       3   3077078931        15       936662225\n",
       "8      43   2774912904        15       477373578\n",
       "9      18   2759505881        13       368384330\n",
       "10      5   2451844676        49       176040665\n",
       "11     17   2079485824        17       402111870\n",
       "12     28   1930746182        26       191204754\n",
       "13     36   1918763863        21       190241310\n",
       "14     42   1842852183        38       291710957\n",
       "15      4   1740428763        13       196573705\n",
       "16     37   1729648950        49       327481748\n",
       "17     23   1520456359        36       158119460\n",
       "18     31   1422911399        19       191204754\n",
       "19     35   1023596031        30       169106725\n",
       "20     11    947671338        16       210614939\n",
       "21     39    889955830         8       334191110\n",
       "22     44    786497181         8       257760692\n",
       "23     40    765635362        16        90508336\n",
       "24      7    652824187        29        68947075\n",
       "25     19    645661825        10       158348367\n",
       "26     33    645459186         6       227471070\n",
       "27     25    580145113         4       200676069\n",
       "28     16    578586146        10       153294164\n",
       "29     27    574728259        11        81001787\n",
       "30     29    495237720        14       132072926\n",
       "31     10    454625110        16        63686397\n",
       "32     26    436669213        21       120091123\n",
       "33     12    359952780         8        90559416\n",
       "34     32    356238494         7       206459076\n",
       "35     34    346533876        11       121697323\n",
       "36     13    337576791         8        90288712\n",
       "37      0    333777829        16       106834564\n",
       "38     20    300158323         6        75286229\n",
       "39      1    276088604         4       107509799\n",
       "40      2    204376048        43        47695371\n",
       "41      8    171686009        10        61186570\n",
       "42     14    151620585         8        32011576\n",
       "43      6     73338237         5        30617396\n",
       "44     38     70666453        26        19202743"
      ]
     },
     "execution_count": 105,
     "metadata": {},
     "output_type": "execute_result"
    }
   ],
   "source": [
    "x"
   ]
  },
  {
   "cell_type": "code",
   "execution_count": 106,
   "metadata": {},
   "outputs": [
    {
     "data": {
      "text/plain": [
       "0      2\n",
       "1     16\n",
       "2     26\n",
       "3     14\n",
       "4     31\n",
       "5     24\n",
       "6     15\n",
       "7     26\n",
       "8      9\n",
       "9     36\n",
       "10    10\n",
       "11    38\n",
       "12    28\n",
       "13    25\n",
       "14    30\n",
       "15    13\n",
       "16    15\n",
       "17    34\n",
       "18    28\n",
       "19     3\n",
       "20     0\n",
       "21     1\n",
       "22    33\n",
       "23    17\n",
       "24    22\n",
       "25    32\n",
       "26    29\n",
       "27    11\n",
       "28    23\n",
       "29    35\n",
       "30    19\n",
       "31    39\n",
       "32    20\n",
       "33    12\n",
       "34     5\n",
       "35    41\n",
       "36    21\n",
       "37     6\n",
       "38     7\n",
       "39    40\n",
       "40    18\n",
       "41     4\n",
       "42     8\n",
       "43    27\n",
       "44    37\n",
       "Name: #1 Release, dtype: int64"
      ]
     },
     "execution_count": 106,
     "metadata": {},
     "output_type": "execute_result"
    }
   ],
   "source": [
    "y"
   ]
  },
  {
   "cell_type": "code",
   "execution_count": 107,
   "metadata": {},
   "outputs": [
    {
     "name": "stderr",
     "output_type": "stream",
     "text": [
      "/home/apiiit-rkv/anaconda3/lib/python3.8/site-packages/sklearn/linear_model/_logistic.py:762: ConvergenceWarning: lbfgs failed to converge (status=1):\n",
      "STOP: TOTAL NO. of ITERATIONS REACHED LIMIT.\n",
      "\n",
      "Increase the number of iterations (max_iter) or scale the data as shown in:\n",
      "    https://scikit-learn.org/stable/modules/preprocessing.html\n",
      "Please also refer to the documentation for alternative solver options:\n",
      "    https://scikit-learn.org/stable/modules/linear_model.html#logistic-regression\n",
      "  n_iter_i = _check_optimize_result(\n"
     ]
    },
    {
     "data": {
      "text/plain": [
       "LogisticRegression()"
      ]
     },
     "execution_count": 107,
     "metadata": {},
     "output_type": "execute_result"
    }
   ],
   "source": [
    "log.fit(x,y)"
   ]
  },
  {
   "cell_type": "code",
   "execution_count": 108,
   "metadata": {},
   "outputs": [
    {
     "data": {
      "text/plain": [
       "LogisticRegression()"
      ]
     },
     "execution_count": 108,
     "metadata": {},
     "output_type": "execute_result"
    }
   ],
   "source": [
    "LogisticRegression()"
   ]
  },
  {
   "cell_type": "code",
   "execution_count": 109,
   "metadata": {},
   "outputs": [
    {
     "data": {
      "text/plain": [
       "array([ 2.86286523e-17, -1.85907345e-16, -1.39178498e-15,  8.32385904e-17,\n",
       "        8.58609242e-16,  4.45856079e-16,  5.76572159e-16,  6.56136829e-16,\n",
       "        9.19281680e-16, -9.44364399e-16, -2.41910979e-16,  2.34419503e-16,\n",
       "        5.73746846e-16, -1.50755467e-16, -1.32953155e-15, -1.58351373e-16,\n",
       "       -1.44819885e-15,  3.04571310e-16,  8.16498460e-16,  4.09609627e-16,\n",
       "        4.82176820e-16,  5.93265875e-16,  3.77660692e-16,  3.01871167e-16,\n",
       "       -9.43069733e-16, -1.73657135e-16, -3.05447740e-15,  1.05626617e-15,\n",
       "        5.73616697e-16,  1.49251323e-16, -3.78556566e-16, -1.15629300e-15,\n",
       "        2.48730670e-16,  2.37876471e-17, -3.32494744e-17,  4.11772440e-16,\n",
       "       -6.55892623e-16,  1.06088220e-15, -6.67695211e-16,  5.36475090e-16,\n",
       "        6.45815911e-16,  5.44954406e-16])"
      ]
     },
     "execution_count": 109,
     "metadata": {},
     "output_type": "execute_result"
    }
   ],
   "source": [
    "log.intercept_"
   ]
  },
  {
   "cell_type": "code",
   "execution_count": 110,
   "metadata": {},
   "outputs": [
    {
     "data": {
      "text/plain": [
       "array([[-1.37447679e-14, -4.27550351e-09, -1.22499493e-15,\n",
       "         4.77505363e-08],\n",
       "       [ 1.54400199e-14, -4.22558404e-08, -1.10153198e-14,\n",
       "         1.58293712e-07],\n",
       "       [-2.77558921e-14,  2.68038920e-08, -2.82436438e-14,\n",
       "        -2.59145356e-07],\n",
       "       [ 1.84198528e-14,  4.26102486e-09,  1.62825036e-14,\n",
       "         1.58164060e-09],\n",
       "       [ 2.11950696e-15, -1.23242541e-09,  6.50120737e-15,\n",
       "         2.89585255e-08],\n",
       "       [ 2.31554156e-14, -3.86026322e-08, -2.57607867e-15,\n",
       "         1.43900372e-07],\n",
       "       [-1.44200745e-14, -4.41493281e-09,  9.83482990e-15,\n",
       "         4.38601767e-08],\n",
       "       [ 1.31370797e-14,  1.09566669e-09, -2.02117072e-15,\n",
       "         1.62484151e-08],\n",
       "       [ 1.10697346e-14,  2.25621883e-09,  4.70388075e-15,\n",
       "        -3.74259216e-10],\n",
       "       [ 3.73921409e-15, -5.41231564e-10, -2.56446779e-14,\n",
       "         3.42566326e-08],\n",
       "       [-2.65127974e-14,  1.96886698e-08,  2.52128666e-14,\n",
       "        -1.46116281e-07],\n",
       "       [ 9.32974259e-15, -1.83035835e-08, -1.07695149e-14,\n",
       "         9.23050229e-08],\n",
       "       [ 9.10440401e-16,  6.88233530e-10, -8.68033822e-16,\n",
       "         2.14486689e-08],\n",
       "       [-2.69954498e-14,  1.10322373e-08, -1.41739495e-14,\n",
       "        -5.33927083e-08],\n",
       "       [-1.97567668e-14,  1.31784428e-08, -3.82713736e-14,\n",
       "        -7.21583758e-08],\n",
       "       [ 3.61430577e-14,  4.98071350e-09,  4.99270132e-14,\n",
       "         2.62708352e-10],\n",
       "       [-3.29904175e-14,  1.56803768e-08, -9.87408237e-15,\n",
       "        -9.84704911e-08],\n",
       "       [ 3.03039174e-14,  9.74157367e-09,  2.62292429e-15,\n",
       "        -4.30619779e-08],\n",
       "       [-6.52671256e-15,  2.20795424e-09,  4.82052046e-14,\n",
       "         5.65043028e-09],\n",
       "       [ 1.88436161e-14, -4.72119309e-09,  3.98999482e-15,\n",
       "         4.13170894e-08],\n",
       "       [ 1.67277194e-14, -3.36692920e-09,  1.43092270e-14,\n",
       "         4.00201584e-08],\n",
       "       [ 2.68155008e-15, -1.48713340e-10, -4.36165432e-16,\n",
       "         2.51817226e-08],\n",
       "       [-1.04296831e-14,  9.84335607e-09,  2.10900947e-14,\n",
       "        -5.10933320e-08],\n",
       "       [-4.81435404e-16, -4.51785822e-09, -2.99188805e-15,\n",
       "         4.78785249e-08],\n",
       "       [-2.78509927e-14,  2.08814850e-08, -1.50464666e-14,\n",
       "        -1.59280954e-07],\n",
       "       [ 1.39346851e-14,  1.35182380e-08, -5.66189835e-15,\n",
       "        -7.84735064e-08],\n",
       "       [-9.55686865e-14, -1.80890046e-10, -3.96917378e-14,\n",
       "         3.49623770e-08],\n",
       "       [ 3.40144615e-15, -1.08132981e-08,  3.01133920e-15,\n",
       "         1.50804351e-08],\n",
       "       [ 3.06039293e-14,  1.00630013e-08,  9.22868893e-15,\n",
       "        -4.22701556e-08],\n",
       "       [ 1.73650483e-14, -2.32632365e-08, -9.37848614e-15,\n",
       "         1.05852154e-07],\n",
       "       [ 1.59058935e-14,  2.73612605e-09,  1.52150612e-14,\n",
       "         1.36804231e-08],\n",
       "       [-4.18158672e-14,  1.62775705e-08, -1.17576130e-14,\n",
       "        -1.05312209e-07],\n",
       "       [ 2.05749954e-15, -3.29652320e-09, -4.22683726e-15,\n",
       "         4.20365410e-08],\n",
       "       [ 2.82950496e-14, -2.43221178e-08, -9.05265802e-15,\n",
       "         1.10079875e-07],\n",
       "       [ 3.60034369e-16,  1.23259069e-08,  1.84166069e-14,\n",
       "        -6.63068735e-08],\n",
       "       [ 1.61941966e-14,  7.68541682e-09, -9.20113800e-16,\n",
       "        -2.59269760e-08],\n",
       "       [-2.15000842e-14,  6.29195751e-09, -2.68404424e-14,\n",
       "        -1.00141033e-08],\n",
       "       [ 4.47025553e-14, -1.27800902e-08,  3.01280188e-14,\n",
       "         7.88279068e-10],\n",
       "       [-2.28555409e-14, -5.06113408e-09, -1.47839948e-14,\n",
       "         5.07057590e-08],\n",
       "       [-2.74435422e-15,  7.14390228e-09,  8.02910107e-15,\n",
       "        -2.42329120e-08],\n",
       "       [-1.15300216e-14, -8.27637796e-09, -4.28091035e-15,\n",
       "         5.63283307e-08],\n",
       "       [ 2.86383393e-14, -8.00745335e-09,  3.04348903e-15,\n",
       "         5.72019596e-08]])"
      ]
     },
     "execution_count": 110,
     "metadata": {},
     "output_type": "execute_result"
    }
   ],
   "source": [
    "log.coef_"
   ]
  },
  {
   "cell_type": "code",
   "execution_count": null,
   "metadata": {},
   "outputs": [],
   "source": []
  }
 ],
 "metadata": {
  "kernelspec": {
   "display_name": "Python 3",
   "language": "python",
   "name": "python3"
  },
  "language_info": {
   "codemirror_mode": {
    "name": "ipython",
    "version": 3
   },
   "file_extension": ".py",
   "mimetype": "text/x-python",
   "name": "python",
   "nbconvert_exporter": "python",
   "pygments_lexer": "ipython3",
   "version": "3.8.5"
  }
 },
 "nbformat": 4,
 "nbformat_minor": 4
}
